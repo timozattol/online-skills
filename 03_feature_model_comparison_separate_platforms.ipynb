{
 "cells": [
  {
   "cell_type": "code",
   "execution_count": 1,
   "metadata": {
    "collapsed": false
   },
   "outputs": [],
   "source": [
    "%matplotlib inline\n",
    "import pandas as pd\n",
    "import numpy as np\n",
    "import matplotlib.pyplot as plt\n",
    "import seaborn as sns\n",
    "sns.set_context('notebook')\n",
    "\n",
    "%load_ext autoreload\n",
    "%autoreload 2"
   ]
  },
  {
   "cell_type": "code",
   "execution_count": 2,
   "metadata": {
    "collapsed": false
   },
   "outputs": [],
   "source": [
    "from helpers import async_cache_pages, urls_list\n",
    "from features import construct_structural_features, feature_functions"
   ]
  },
  {
   "cell_type": "code",
   "execution_count": 3,
   "metadata": {
    "collapsed": true
   },
   "outputs": [],
   "source": [
    "from sklearn.linear_model import LogisticRegression\n",
    "from sklearn.ensemble import RandomForestClassifier\n",
    "from sklearn import metrics"
   ]
  },
  {
   "cell_type": "code",
   "execution_count": 4,
   "metadata": {
    "collapsed": true
   },
   "outputs": [],
   "source": [
    "seed = 0"
   ]
  },
  {
   "cell_type": "code",
   "execution_count": 5,
   "metadata": {
    "collapsed": false
   },
   "outputs": [],
   "source": [
    "folder_train = ['train-0']\n",
    "folder_test_easy = ['test-easy']\n",
    "folder_test_hard = ['test-hard']"
   ]
  },
  {
   "cell_type": "code",
   "execution_count": 6,
   "metadata": {
    "collapsed": false
   },
   "outputs": [
    {
     "name": "stdout",
     "output_type": "stream",
     "text": [
      "Error while downloading: https://www.economist.com/digital. Status code: 403\n",
      "Error while downloading: http://blog.openclassrooms.com/en/. Status code: 403\n",
      "Trying again to download 0 pages one at a time\n"
     ]
    }
   ],
   "source": [
    "train_pos, train_neg = urls_list(folder_train)\n",
    "\n",
    "test_pos_easy, test_neg_easy = urls_list(folder_test_easy)\n",
    "test_pos_hard, test_neg_hard = urls_list(folder_test_hard)\n",
    "\n",
    "async_cache_pages(train_pos + train_neg + test_pos_easy + test_neg_easy + test_pos_hard + test_neg_hard)"
   ]
  },
  {
   "cell_type": "code",
   "execution_count": 7,
   "metadata": {
    "collapsed": true
   },
   "outputs": [],
   "source": [
    "all_features = sorted(list(feature_functions.keys()))"
   ]
  },
  {
   "cell_type": "code",
   "execution_count": 8,
   "metadata": {
    "collapsed": true
   },
   "outputs": [],
   "source": [
    "def balanced_classes(df):\n",
    "    n_pos = sum(df.label == True)\n",
    "    n_neg = sum(df.label == False)\n",
    "\n",
    "    min_pos_neg = min(n_pos, n_neg)\n",
    "\n",
    "\n",
    "    return pd.concat([\n",
    "            df[df.label == False].sample(min_pos_neg, random_state=seed), \n",
    "            df[df.label == True].sample(min_pos_neg, random_state=seed)\n",
    "    ])"
   ]
  },
  {
   "cell_type": "code",
   "execution_count": 9,
   "metadata": {
    "collapsed": false,
    "scrolled": true
   },
   "outputs": [],
   "source": [
    "train_urls = train_pos + train_neg\n",
    "train_labels = [True] * len(train_pos) + [False] * len(train_neg)\n",
    "\n",
    "train_df = construct_structural_features(train_urls, train_labels, all_features)\n",
    "\n",
    "train_df = balanced_classes(train_df)"
   ]
  },
  {
   "cell_type": "code",
   "execution_count": 10,
   "metadata": {
    "collapsed": true
   },
   "outputs": [],
   "source": [
    "test_easy_urls = test_pos_easy + test_neg_easy\n",
    "test_easy_labels = [True] * len(test_pos_easy) + [False] * len(test_neg_easy)\n",
    "\n",
    "test_easy_df = construct_structural_features(test_easy_urls, test_easy_labels, all_features)\n",
    "\n",
    "test_hard_urls = test_pos_hard + test_neg_hard\n",
    "test_hard_labels = [True] * len(test_pos_hard) + [False] * len(test_neg_hard)\n",
    "\n",
    "test_hard_df = construct_structural_features(test_hard_urls, test_hard_labels, all_features)\n"
   ]
  },
  {
   "cell_type": "code",
   "execution_count": 11,
   "metadata": {
    "collapsed": false
   },
   "outputs": [],
   "source": [
    "#estim = RandomForestClassifier()\n",
    "estim = LogisticRegression(random_state=seed, max_iter=1000)\n",
    "\n",
    "X = train_df[all_features]\n",
    "y = train_df.label"
   ]
  },
  {
   "cell_type": "code",
   "execution_count": 12,
   "metadata": {
    "collapsed": false
   },
   "outputs": [
    {
     "name": "stdout",
     "output_type": "stream",
     "text": [
      "Training the model\n",
      "Predictions on test sets\n",
      "==Easy task==\n",
      "             precision    recall  f1-score   support\n",
      "\n",
      "      False       0.57      0.62      0.59        48\n",
      "       True       0.61      0.55      0.58        51\n",
      "\n",
      "avg / total       0.59      0.59      0.59        99\n",
      "\n",
      "[[30 18]\n",
      " [23 28]]\n",
      "Accuracy: 0.5858585858585859\n",
      "==Hard task==\n",
      "             precision    recall  f1-score   support\n",
      "\n",
      "      False       0.60      0.78      0.68        45\n",
      "       True       0.74      0.55      0.63        51\n",
      "\n",
      "avg / total       0.67      0.66      0.65        96\n",
      "\n",
      "[[35 10]\n",
      " [23 28]]\n",
      "Accuracy: 0.65625\n"
     ]
    }
   ],
   "source": [
    "print(\"Training the model\")\n",
    "estim.fit(X, y)\n",
    "\n",
    "print(\"Predictions on test sets\")\n",
    "y_easy_pred = estim.predict(test_easy_df[all_features])\n",
    "y_easy_test = test_easy_df.label\n",
    "\n",
    "y_hard_pred = estim.predict(test_hard_df[all_features])\n",
    "y_hard_test = test_hard_df.label\n",
    "\n",
    "print(\"==Easy task==\")\n",
    "print(metrics.classification_report(y_easy_test, y_easy_pred))\n",
    "print(metrics.confusion_matrix(y_easy_test, y_easy_pred))\n",
    "easy_accuracy = metrics.accuracy_score(y_easy_test, y_easy_pred)\n",
    "print(\"Accuracy: {}\".format(easy_accuracy))\n",
    "\n",
    "print(\"==Hard task==\")\n",
    "print(metrics.classification_report(y_hard_test, y_hard_pred))\n",
    "print(metrics.confusion_matrix(y_hard_test, y_hard_pred))\n",
    "hard_accuracy = metrics.accuracy_score(y_hard_test, y_hard_pred)\n",
    "print(\"Accuracy: {}\".format(hard_accuracy))"
   ]
  },
  {
   "cell_type": "markdown",
   "metadata": {},
   "source": [
    "--> The structural features were not working so well, we were overfitting by using websites from the same platforms during training + test. Now it is the actual accuracy"
   ]
  },
  {
   "cell_type": "code",
   "execution_count": null,
   "metadata": {
    "collapsed": true
   },
   "outputs": [],
   "source": []
  }
 ],
 "metadata": {
  "anaconda-cloud": {},
  "kernelspec": {
   "display_name": "Python [default]",
   "language": "python",
   "name": "python3"
  },
  "language_info": {
   "codemirror_mode": {
    "name": "ipython",
    "version": 3
   },
   "file_extension": ".py",
   "mimetype": "text/x-python",
   "name": "python",
   "nbconvert_exporter": "python",
   "pygments_lexer": "ipython3",
   "version": "3.5.2"
  }
 },
 "nbformat": 4,
 "nbformat_minor": 1
}
