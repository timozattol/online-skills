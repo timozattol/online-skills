{
 "cells": [
  {
   "cell_type": "code",
   "execution_count": 82,
   "metadata": {
    "collapsed": false
   },
   "outputs": [
    {
     "name": "stdout",
     "output_type": "stream",
     "text": [
      "The autoreload extension is already loaded. To reload it, use:\n",
      "  %reload_ext autoreload\n"
     ]
    }
   ],
   "source": [
    "%matplotlib inline\n",
    "import pandas as pd\n",
    "import numpy as np\n",
    "import matplotlib.pyplot as plt\n",
    "import seaborn as sns\n",
    "sns.set_context('notebook')\n",
    "\n",
    "%load_ext autoreload\n",
    "%autoreload 2"
   ]
  },
  {
   "cell_type": "markdown",
   "metadata": {},
   "source": [
    "http://scikit-learn.org/stable/modules/generated/sklearn.feature_extraction.text.TfidfVectorizer.html\n",
    "http://scikit-learn.org/stable/tutorial/text_analytics/working_with_text_data.html\n",
    "PCA on top?"
   ]
  },
  {
   "cell_type": "code",
   "execution_count": 83,
   "metadata": {
    "collapsed": false
   },
   "outputs": [],
   "source": [
    "from helpers import async_cache_pages, urls_list\n",
    "\n",
    "import os\n",
    "import random\n",
    "random.seed(0)"
   ]
  },
  {
   "cell_type": "code",
   "execution_count": 84,
   "metadata": {
    "collapsed": false
   },
   "outputs": [
    {
     "name": "stdout",
     "output_type": "stream",
     "text": [
      "Error while downloading: https://www.amazon.com/Low-Price-With-Free-Shipping/. Status code: 404\n",
      "Error while downloading: http://blog.openclassrooms.com/en/. Status code: 403\n",
      "Error while downloading: https://about.udemy.com/careers/. Status code: 403\n",
      "Error while downloading: https://about.udemy.com/blog/?ref=footer. Status code: 403\n",
      "Error while downloading: https://business.udemy.com/?ref=ufb_header. Status code: 403\n",
      "Error while downloading: https://www.amazon.com/. Status code: 503\n",
      "Trying again to download 0 pages one at a time\n"
     ]
    }
   ],
   "source": [
    "folders = [\"general2\"]\n",
    "\n",
    "positives, negatives = urls_list(folders)\n",
    "async_cache_pages(positives + negatives)"
   ]
  },
  {
   "cell_type": "code",
   "execution_count": 85,
   "metadata": {
    "collapsed": false
   },
   "outputs": [],
   "source": [
    "# Same number of negative and positive examples\n",
    "urls = positives + random.sample(negatives, len(positives))\n",
    "labels = [True] * len(positives) + [False] * len(positives)"
   ]
  },
  {
   "cell_type": "code",
   "execution_count": 86,
   "metadata": {
    "collapsed": true
   },
   "outputs": [],
   "source": [
    "from features import construct_text_df"
   ]
  },
  {
   "cell_type": "code",
   "execution_count": 87,
   "metadata": {
    "collapsed": false
   },
   "outputs": [
    {
     "name": "stdout",
     "output_type": "stream",
     "text": [
      "Skipped , was not cached\n",
      "Skipped , was not cached\n",
      "Skipped https://www.amazon.com/Low-Price-With-Free-Shipping/, was not cached\n",
      "Skipped http://blog.openclassrooms.com/en/, was not cached\n",
      "Skipped https://www.amazon.com/, was not cached\n"
     ]
    }
   ],
   "source": [
    "df = construct_text_df(urls, labels)"
   ]
  },
  {
   "cell_type": "code",
   "execution_count": 88,
   "metadata": {
    "collapsed": false
   },
   "outputs": [
    {
     "data": {
      "text/html": [
       "<div>\n",
       "<style>\n",
       "    .dataframe thead tr:only-child th {\n",
       "        text-align: right;\n",
       "    }\n",
       "\n",
       "    .dataframe thead th {\n",
       "        text-align: left;\n",
       "    }\n",
       "\n",
       "    .dataframe tbody tr th {\n",
       "        vertical-align: top;\n",
       "    }\n",
       "</style>\n",
       "<table border=\"1\" class=\"dataframe\">\n",
       "  <thead>\n",
       "    <tr style=\"text-align: right;\">\n",
       "      <th></th>\n",
       "      <th>label</th>\n",
       "      <th>visible_text</th>\n",
       "    </tr>\n",
       "    <tr>\n",
       "      <th>url</th>\n",
       "      <th></th>\n",
       "      <th></th>\n",
       "    </tr>\n",
       "  </thead>\n",
       "  <tbody>\n",
       "    <tr>\n",
       "      <th>http://online.stanford.edu/course/crisis-code-teaching-crisis-management-skills-enhance-management-advanced-cardiac-life</th>\n",
       "      <td>True</td>\n",
       "      <td>Skip content Skip navigation ONLINE Connect us...</td>\n",
       "    </tr>\n",
       "    <tr>\n",
       "      <th>https://www.futurelearn.com/courses/the-genomics-era</th>\n",
       "      <td>True</td>\n",
       "      <td>Contact FutureLearn Support Skip main navigati...</td>\n",
       "    </tr>\n",
       "    <tr>\n",
       "      <th>https://www.pinterest.ch/pin/316448311309858339/</th>\n",
       "      <td>False</td>\n",
       "      <td>Pinterest using cookies help give best experie...</td>\n",
       "    </tr>\n",
       "    <tr>\n",
       "      <th>https://openclassrooms.com/courses/integrate-a-wordpress-theme</th>\n",
       "      <td>True</td>\n",
       "      <td>Vous utilisez un navigateur obsolète, veuillez...</td>\n",
       "    </tr>\n",
       "    <tr>\n",
       "      <th>https://openclassrooms.com/courses/write-object-oriented-ruby</th>\n",
       "      <td>True</td>\n",
       "      <td>Vous utilisez un navigateur obsolète, veuillez...</td>\n",
       "    </tr>\n",
       "  </tbody>\n",
       "</table>\n",
       "</div>"
      ],
      "text/plain": [
       "                                                    label  \\\n",
       "url                                                         \n",
       "http://online.stanford.edu/course/crisis-code-t...   True   \n",
       "https://www.futurelearn.com/courses/the-genomic...   True   \n",
       "https://www.pinterest.ch/pin/316448311309858339/    False   \n",
       "https://openclassrooms.com/courses/integrate-a-...   True   \n",
       "https://openclassrooms.com/courses/write-object...   True   \n",
       "\n",
       "                                                                                         visible_text  \n",
       "url                                                                                                    \n",
       "http://online.stanford.edu/course/crisis-code-t...  Skip content Skip navigation ONLINE Connect us...  \n",
       "https://www.futurelearn.com/courses/the-genomic...  Contact FutureLearn Support Skip main navigati...  \n",
       "https://www.pinterest.ch/pin/316448311309858339/    Pinterest using cookies help give best experie...  \n",
       "https://openclassrooms.com/courses/integrate-a-...  Vous utilisez un navigateur obsolète, veuillez...  \n",
       "https://openclassrooms.com/courses/write-object...  Vous utilisez un navigateur obsolète, veuillez...  "
      ]
     },
     "execution_count": 88,
     "metadata": {},
     "output_type": "execute_result"
    }
   ],
   "source": [
    "df.sample(5, random_state=1)"
   ]
  },
  {
   "cell_type": "code",
   "execution_count": 89,
   "metadata": {
    "collapsed": false
   },
   "outputs": [],
   "source": [
    "X = df[\"visible_text\"]\n",
    "y = df.label"
   ]
  },
  {
   "cell_type": "code",
   "execution_count": 90,
   "metadata": {
    "collapsed": false
   },
   "outputs": [],
   "source": [
    "from sklearn.feature_extraction.text import CountVectorizer\n",
    "from sklearn.feature_extraction.text import TfidfTransformer"
   ]
  },
  {
   "cell_type": "code",
   "execution_count": 91,
   "metadata": {
    "collapsed": true
   },
   "outputs": [],
   "source": [
    "count_vect = CountVectorizer()\n",
    "tfidf_transformer = TfidfTransformer()"
   ]
  },
  {
   "cell_type": "code",
   "execution_count": 92,
   "metadata": {
    "collapsed": false
   },
   "outputs": [],
   "source": [
    "X_counts = count_vect.fit_transform(X)"
   ]
  },
  {
   "cell_type": "code",
   "execution_count": 93,
   "metadata": {
    "collapsed": false
   },
   "outputs": [],
   "source": [
    "X_tfidf = tfidf_transformer.fit_transform(X_counts)"
   ]
  },
  {
   "cell_type": "code",
   "execution_count": 94,
   "metadata": {
    "collapsed": true
   },
   "outputs": [],
   "source": [
    "def top_tfidf_feats(row, features, top_n=25):\n",
    "    ''' Get top n tfidf values in row and return them with their corresponding feature names.'''\n",
    "    topn_ids = np.argsort(row)[::-1][:top_n]\n",
    "    top_feats = [(features[i], row[i]) for i in topn_ids]\n",
    "    df = pd.DataFrame(top_feats)\n",
    "    df.columns = ['feature', 'tfidf']\n",
    "    return df\n",
    "\n",
    "def top_feats_in_doc(Xtr, features, row_id, top_n=25):\n",
    "    ''' Top tfidf features in specific document (matrix row) '''\n",
    "    row = np.squeeze(Xtr[row_id].toarray())\n",
    "    return top_tfidf_feats(row, features, top_n)"
   ]
  },
  {
   "cell_type": "code",
   "execution_count": 95,
   "metadata": {
    "collapsed": false
   },
   "outputs": [
    {
     "data": {
      "text/plain": [
       "['karma',\n",
       " 'kaszã',\n",
       " 'kate',\n",
       " 'katherine',\n",
       " 'katie',\n",
       " 'katy',\n",
       " 'katyperry',\n",
       " 'katyperryvevo',\n",
       " 'katz',\n",
       " 'kauf']"
      ]
     },
     "execution_count": 95,
     "metadata": {},
     "output_type": "execute_result"
    }
   ],
   "source": [
    "feats = count_vect.get_feature_names()\n",
    "feats[10000:10000 + 10]"
   ]
  },
  {
   "cell_type": "code",
   "execution_count": 96,
   "metadata": {
    "collapsed": false
   },
   "outputs": [
    {
     "data": {
      "text/html": [
       "<div>\n",
       "<style>\n",
       "    .dataframe thead tr:only-child th {\n",
       "        text-align: right;\n",
       "    }\n",
       "\n",
       "    .dataframe thead th {\n",
       "        text-align: left;\n",
       "    }\n",
       "\n",
       "    .dataframe tbody tr th {\n",
       "        vertical-align: top;\n",
       "    }\n",
       "</style>\n",
       "<table border=\"1\" class=\"dataframe\">\n",
       "  <thead>\n",
       "    <tr style=\"text-align: right;\">\n",
       "      <th></th>\n",
       "      <th>feature</th>\n",
       "      <th>tfidf</th>\n",
       "    </tr>\n",
       "  </thead>\n",
       "  <tbody>\n",
       "    <tr>\n",
       "      <th>0</th>\n",
       "      <td>java</td>\n",
       "      <td>0.498376</td>\n",
       "    </tr>\n",
       "    <tr>\n",
       "      <th>1</th>\n",
       "      <td>video</td>\n",
       "      <td>0.355078</td>\n",
       "    </tr>\n",
       "    <tr>\n",
       "      <th>2</th>\n",
       "      <td>csv</td>\n",
       "      <td>0.224788</td>\n",
       "    </tr>\n",
       "    <tr>\n",
       "      <th>3</th>\n",
       "      <td>programming</td>\n",
       "      <td>0.216111</td>\n",
       "    </tr>\n",
       "    <tr>\n",
       "      <th>4</th>\n",
       "      <td>course</td>\n",
       "      <td>0.163338</td>\n",
       "    </tr>\n",
       "    <tr>\n",
       "      <th>5</th>\n",
       "      <td>reading</td>\n",
       "      <td>0.141775</td>\n",
       "    </tr>\n",
       "    <tr>\n",
       "      <th>6</th>\n",
       "      <td>duke</td>\n",
       "      <td>0.139201</td>\n",
       "    </tr>\n",
       "    <tr>\n",
       "      <th>7</th>\n",
       "      <td>grayscale</td>\n",
       "      <td>0.121040</td>\n",
       "    </tr>\n",
       "    <tr>\n",
       "      <th>8</th>\n",
       "      <td>data</td>\n",
       "      <td>0.120887</td>\n",
       "    </tr>\n",
       "    <tr>\n",
       "      <th>9</th>\n",
       "      <td>practice</td>\n",
       "      <td>0.115657</td>\n",
       "    </tr>\n",
       "  </tbody>\n",
       "</table>\n",
       "</div>"
      ],
      "text/plain": [
       "       feature     tfidf\n",
       "0         java  0.498376\n",
       "1        video  0.355078\n",
       "2          csv  0.224788\n",
       "3  programming  0.216111\n",
       "4       course  0.163338\n",
       "5      reading  0.141775\n",
       "6         duke  0.139201\n",
       "7    grayscale  0.121040\n",
       "8         data  0.120887\n",
       "9     practice  0.115657"
      ]
     },
     "execution_count": 96,
     "metadata": {},
     "output_type": "execute_result"
    }
   ],
   "source": [
    "top_feats_in_doc(X_tfidf, feats, 0, 10)"
   ]
  },
  {
   "cell_type": "code",
   "execution_count": 97,
   "metadata": {
    "collapsed": false
   },
   "outputs": [
    {
     "data": {
      "text/html": [
       "<div>\n",
       "<style>\n",
       "    .dataframe thead tr:only-child th {\n",
       "        text-align: right;\n",
       "    }\n",
       "\n",
       "    .dataframe thead th {\n",
       "        text-align: left;\n",
       "    }\n",
       "\n",
       "    .dataframe tbody tr th {\n",
       "        vertical-align: top;\n",
       "    }\n",
       "</style>\n",
       "<table border=\"1\" class=\"dataframe\">\n",
       "  <thead>\n",
       "    <tr style=\"text-align: right;\">\n",
       "      <th></th>\n",
       "      <th>feature</th>\n",
       "      <th>tfidf</th>\n",
       "    </tr>\n",
       "  </thead>\n",
       "  <tbody>\n",
       "    <tr>\n",
       "      <th>0</th>\n",
       "      <td>strategy</td>\n",
       "      <td>0.616469</td>\n",
       "    </tr>\n",
       "    <tr>\n",
       "      <th>1</th>\n",
       "      <td>video</td>\n",
       "      <td>0.194265</td>\n",
       "    </tr>\n",
       "    <tr>\n",
       "      <th>2</th>\n",
       "      <td>strategic</td>\n",
       "      <td>0.177828</td>\n",
       "    </tr>\n",
       "    <tr>\n",
       "      <th>3</th>\n",
       "      <td>copenhagen</td>\n",
       "      <td>0.176004</td>\n",
       "    </tr>\n",
       "    <tr>\n",
       "      <th>4</th>\n",
       "      <td>ä¹</td>\n",
       "      <td>0.156093</td>\n",
       "    </tr>\n",
       "    <tr>\n",
       "      <th>5</th>\n",
       "      <td>business</td>\n",
       "      <td>0.151174</td>\n",
       "    </tr>\n",
       "    <tr>\n",
       "      <th>6</th>\n",
       "      <td>ä½</td>\n",
       "      <td>0.133794</td>\n",
       "    </tr>\n",
       "    <tr>\n",
       "      <th>7</th>\n",
       "      <td>¾ç</td>\n",
       "      <td>0.133794</td>\n",
       "    </tr>\n",
       "    <tr>\n",
       "      <th>8</th>\n",
       "      <td>porter</td>\n",
       "      <td>0.124167</td>\n",
       "    </tr>\n",
       "    <tr>\n",
       "      <th>9</th>\n",
       "      <td>course</td>\n",
       "      <td>0.121118</td>\n",
       "    </tr>\n",
       "  </tbody>\n",
       "</table>\n",
       "</div>"
      ],
      "text/plain": [
       "      feature     tfidf\n",
       "0    strategy  0.616469\n",
       "1       video  0.194265\n",
       "2   strategic  0.177828\n",
       "3  copenhagen  0.176004\n",
       "4          ä¹  0.156093\n",
       "5    business  0.151174\n",
       "6          ä½  0.133794\n",
       "7          ¾ç  0.133794\n",
       "8      porter  0.124167\n",
       "9      course  0.121118"
      ]
     },
     "execution_count": 97,
     "metadata": {},
     "output_type": "execute_result"
    }
   ],
   "source": [
    "top_feats_in_doc(X_tfidf, feats, 1, 10)"
   ]
  },
  {
   "cell_type": "code",
   "execution_count": 98,
   "metadata": {
    "collapsed": false
   },
   "outputs": [
    {
     "data": {
      "text/html": [
       "<div>\n",
       "<style>\n",
       "    .dataframe thead tr:only-child th {\n",
       "        text-align: right;\n",
       "    }\n",
       "\n",
       "    .dataframe thead th {\n",
       "        text-align: left;\n",
       "    }\n",
       "\n",
       "    .dataframe tbody tr th {\n",
       "        vertical-align: top;\n",
       "    }\n",
       "</style>\n",
       "<table border=\"1\" class=\"dataframe\">\n",
       "  <thead>\n",
       "    <tr style=\"text-align: right;\">\n",
       "      <th></th>\n",
       "      <th>feature</th>\n",
       "      <th>tfidf</th>\n",
       "    </tr>\n",
       "  </thead>\n",
       "  <tbody>\n",
       "    <tr>\n",
       "      <th>0</th>\n",
       "      <td>antimicrobial</td>\n",
       "      <td>0.491490</td>\n",
       "    </tr>\n",
       "    <tr>\n",
       "      <th>1</th>\n",
       "      <td>resistance</td>\n",
       "      <td>0.491490</td>\n",
       "    </tr>\n",
       "    <tr>\n",
       "      <th>2</th>\n",
       "      <td>antimicrobials</td>\n",
       "      <td>0.229493</td>\n",
       "    </tr>\n",
       "    <tr>\n",
       "      <th>3</th>\n",
       "      <td>susceptibility</td>\n",
       "      <td>0.229362</td>\n",
       "    </tr>\n",
       "    <tr>\n",
       "      <th>4</th>\n",
       "      <td>lecture</td>\n",
       "      <td>0.168935</td>\n",
       "    </tr>\n",
       "    <tr>\n",
       "      <th>5</th>\n",
       "      <td>course</td>\n",
       "      <td>0.141743</td>\n",
       "    </tr>\n",
       "    <tr>\n",
       "      <th>6</th>\n",
       "      <td>bacteria</td>\n",
       "      <td>0.141227</td>\n",
       "    </tr>\n",
       "    <tr>\n",
       "      <th>7</th>\n",
       "      <td>video</td>\n",
       "      <td>0.126329</td>\n",
       "    </tr>\n",
       "    <tr>\n",
       "      <th>8</th>\n",
       "      <td>ast</td>\n",
       "      <td>0.123573</td>\n",
       "    </tr>\n",
       "    <tr>\n",
       "      <th>9</th>\n",
       "      <td>methods</td>\n",
       "      <td>0.123146</td>\n",
       "    </tr>\n",
       "  </tbody>\n",
       "</table>\n",
       "</div>"
      ],
      "text/plain": [
       "          feature     tfidf\n",
       "0   antimicrobial  0.491490\n",
       "1      resistance  0.491490\n",
       "2  antimicrobials  0.229493\n",
       "3  susceptibility  0.229362\n",
       "4         lecture  0.168935\n",
       "5          course  0.141743\n",
       "6        bacteria  0.141227\n",
       "7           video  0.126329\n",
       "8             ast  0.123573\n",
       "9         methods  0.123146"
      ]
     },
     "execution_count": 98,
     "metadata": {},
     "output_type": "execute_result"
    }
   ],
   "source": [
    "top_feats_in_doc(X_tfidf, feats, 2, 10)"
   ]
  },
  {
   "cell_type": "code",
   "execution_count": 99,
   "metadata": {
    "collapsed": false
   },
   "outputs": [],
   "source": [
    "from sklearn.naive_bayes import MultinomialNB\n",
    "from sklearn.pipeline import Pipeline"
   ]
  },
  {
   "cell_type": "code",
   "execution_count": 100,
   "metadata": {
    "collapsed": false
   },
   "outputs": [
    {
     "data": {
      "text/plain": [
       "Pipeline(memory=None,\n",
       "     steps=[('vect', CountVectorizer(analyzer='word', binary=False, decode_error='strict',\n",
       "        dtype=<class 'numpy.int64'>, encoding='utf-8', input='content',\n",
       "        lowercase=True, max_df=1.0, max_features=None, min_df=1,\n",
       "        ngram_range=(1, 1), preprocessor=None, stop_words=None,\n",
       "        strip...inear_tf=False, use_idf=True)), ('clf', MultinomialNB(alpha=1.0, class_prior=None, fit_prior=True))])"
      ]
     },
     "execution_count": 100,
     "metadata": {},
     "output_type": "execute_result"
    }
   ],
   "source": [
    "pipeline = Pipeline([('vect', CountVectorizer()),\n",
    "                     ('tfidf', TfidfTransformer()),\n",
    "                     ('clf', MultinomialNB()),\n",
    "])\n",
    "\n",
    "pipeline.fit(X, y)"
   ]
  },
  {
   "cell_type": "code",
   "execution_count": 101,
   "metadata": {
    "collapsed": true
   },
   "outputs": [],
   "source": [
    "docs_new = [\"course submit\", \"education learning\", \"python coursera\", \"submit button\", \"medical hospital\", \"news article\"]\n",
    "predicted = pipeline.predict(docs_new)"
   ]
  },
  {
   "cell_type": "code",
   "execution_count": 102,
   "metadata": {
    "collapsed": false
   },
   "outputs": [
    {
     "name": "stdout",
     "output_type": "stream",
     "text": [
      "course submit ==> True\n",
      "education learning ==> True\n",
      "python coursera ==> True\n",
      "submit button ==> True\n",
      "medical hospital ==> True\n",
      "news article ==> False\n"
     ]
    }
   ],
   "source": [
    "for doc, category in zip(docs_new, predicted):\n",
    "    print(doc, \"==>\", category)"
   ]
  },
  {
   "cell_type": "code",
   "execution_count": 103,
   "metadata": {
    "collapsed": true
   },
   "outputs": [],
   "source": [
    "from features import analyse_classification"
   ]
  },
  {
   "cell_type": "code",
   "execution_count": 104,
   "metadata": {
    "collapsed": false
   },
   "outputs": [
    {
     "name": "stdout",
     "output_type": "stream",
     "text": [
      "             precision    recall  f1-score   support\n",
      "\n",
      "      False       0.94      0.48      0.64        33\n",
      "       True       0.67      0.97      0.79        35\n",
      "\n",
      "avg / total       0.80      0.74      0.72        68\n",
      "\n",
      "[[16 17]\n",
      " [ 1 34]]\n",
      "Accuracy: 0.7352941176470589\n"
     ]
    }
   ],
   "source": [
    "pipeline2 = Pipeline([('vect', CountVectorizer()),\n",
    "                     ('tfidf', TfidfTransformer()),\n",
    "                     ('clf', MultinomialNB()),\n",
    "])\n",
    "\n",
    "analyse_classification(X, y, pipeline2)"
   ]
  },
  {
   "cell_type": "code",
   "execution_count": 105,
   "metadata": {
    "collapsed": false
   },
   "outputs": [
    {
     "name": "stdout",
     "output_type": "stream",
     "text": [
      "             precision    recall  f1-score   support\n",
      "\n",
      "      False       0.96      0.76      0.85        33\n",
      "       True       0.81      0.97      0.88        35\n",
      "\n",
      "avg / total       0.88      0.87      0.87        68\n",
      "\n",
      "[[25  8]\n",
      " [ 1 34]]\n",
      "Accuracy: 0.8676470588235294\n"
     ]
    }
   ],
   "source": [
    "from sklearn.linear_model import LogisticRegression\n",
    "pipeline3 = Pipeline([('vect', CountVectorizer()),\n",
    "                     ('tfidf', TfidfTransformer()),\n",
    "                     ('clf', LogisticRegression()),\n",
    "])\n",
    "\n",
    "analyse_classification(X, y, pipeline3)"
   ]
  },
  {
   "cell_type": "code",
   "execution_count": 106,
   "metadata": {
    "collapsed": false
   },
   "outputs": [
    {
     "data": {
      "text/plain": [
       "array([ 0.90892938,  0.49684893,  0.61440345,  0.72660173,  0.55371857,\n",
       "        0.51677329,  0.52180738,  0.35586578,  0.10372384,  0.32057602,\n",
       "        0.2091007 ,  0.25646052,  0.20707336,  0.86994594,  1.06542028,\n",
       "        1.01197603,  0.91439378,  0.940258  ,  0.48720265,  0.83076799,\n",
       "        0.83076799,  0.38845262,  0.51289682,  0.41307959,  0.44091173,\n",
       "        0.42707329,  0.16712731,  0.32684353,  0.40953064,  0.47022817,\n",
       "        0.24850751,  0.61989597,  0.39848188,  0.37428465,  0.44017145,\n",
       "       -0.17053502,  0.55475676, -0.23720919,  0.51755137,  0.49759991,\n",
       "        0.60359728,  0.45221218,  0.54758529,  0.40014779,  0.14863885,\n",
       "        0.35728663,  0.56220259,  0.48717578,  0.78737965,  0.76825365,\n",
       "        0.67097296,  0.51463243,  0.89199834,  0.65794815,  0.9080439 ,\n",
       "        0.42810768,  0.91784811,  0.7584666 ,  0.83323325,  0.8911259 ,\n",
       "        0.54119524,  0.28751129,  0.65651708,  0.53139298,  0.65328606,\n",
       "        0.8597689 ,  0.86905277,  0.77978517,  0.70104944,  0.75674555,\n",
       "        0.76153683,  0.90305122,  0.87136844,  0.69632376,  0.84649876,\n",
       "        0.76210485,  0.75183047,  0.81878157,  0.45010295,  0.41072215,\n",
       "        0.19546389,  0.52411264,  0.65031082,  0.78938534,  0.49363044,\n",
       "        0.8852874 ,  0.85804403,  0.62435509,  0.50153213,  0.66789455,\n",
       "        0.56327249,  1.14724551,  0.95057436,  1.09514417,  0.9364118 ,\n",
       "        0.93798762,  0.93971945,  0.98090817,  1.06084739,  0.94172931,\n",
       "        0.66059545,  1.11287777,  1.16763218, -0.6588179 , -0.46154435,\n",
       "       -0.8473481 , -0.49561856, -0.80810265, -0.82184126, -0.25307821,\n",
       "       -0.49617128, -0.59322495, -0.67545881,  0.68727914, -0.91056202,\n",
       "       -0.98644971, -0.74242936, -0.84113924, -0.84766653, -0.82928586,\n",
       "       -1.18099979, -0.56036521, -0.38502318, -0.79392831, -0.52628535,\n",
       "       -0.84442491, -0.81635499, -0.1287875 , -0.90475598, -0.08776557,\n",
       "       -0.04915866, -0.67806769, -0.21245814, -0.55816065, -0.92598769,\n",
       "       -0.44947575, -0.00906394, -0.67941493, -0.01389174, -0.21638059,\n",
       "       -0.93226544,  0.06628509, -0.61212605, -0.8575368 , -0.27396837,\n",
       "        0.49136601, -0.97844831, -0.22812698, -1.17815852,  0.02297641,\n",
       "       -0.89552905, -0.77502865, -0.86445262, -0.89475193, -0.87823433,\n",
       "        0.19575491, -0.52686194, -0.24057764, -0.89828499, -0.6547419 ,\n",
       "       -0.05489859, -0.85657427, -0.37466463,  0.20414259, -0.91632014,\n",
       "       -0.16206785, -0.57692455, -0.26611394,  0.04878354, -0.78388319,\n",
       "       -0.51124014, -0.22787105, -0.84100888, -0.52686194, -0.90913615,\n",
       "       -0.86642152, -0.30649663, -0.53739894, -1.04567774, -0.23725151,\n",
       "       -0.77071888, -0.48118388, -0.50531303,  0.03318543, -0.70315609,\n",
       "       -0.86025299, -0.81563126, -0.64875525,  0.0514556 , -0.6861281 ,\n",
       "       -0.39098902, -0.98578671, -1.01734005,  0.23306227, -0.67581244,\n",
       "       -0.86040488, -0.6306958 , -0.63318034,  0.00418448, -1.18587832,\n",
       "       -1.07451586, -0.60602085, -0.8338495 , -0.9883807 , -0.64305608])"
      ]
     },
     "execution_count": 106,
     "metadata": {},
     "output_type": "execute_result"
    }
   ],
   "source": [
    "pipeline3.decision_function(X)"
   ]
  },
  {
   "cell_type": "markdown",
   "metadata": {},
   "source": [
    "Problem ? 0.87 quite high. Overfitting because 6-7 pages in the same platform ?"
   ]
  },
  {
   "cell_type": "code",
   "execution_count": 107,
   "metadata": {
    "collapsed": false
   },
   "outputs": [
    {
     "name": "stdout",
     "output_type": "stream",
     "text": [
      "Trying again to download 0 pages one at a time\n"
     ]
    }
   ],
   "source": [
    "new_urls_true = [\n",
    "    \"https://www.wallstreetprep.com/self-study-programs/oil-and-gas-modeling/\",\n",
    "    \"https://www.wallstreetprep.com/self-study-programs/restructuring-modeling/\",\n",
    "    \"https://www.wallstreetprep.com/self-study-programs/bank-and-fig-modeling/\",\n",
    "    \"https://www.wallstreetprep.com/self-study-programs/adv-lbo-modeling/\",\n",
    "    \"https://www.educba.com/course/online-investment-banking-training-courses/\",\n",
    "    \"https://www.creativelive.com/courses/find-your-niche-and-build-your-family-photography-business-julia-kelleher\",\n",
    "    \"https://www.creativelive.com/courses/lightroom-cc-photo-editing-the-complete-guide-ben-willmore\",\n",
    "    \"https://www.creativelive.com/courses/portrait-compositing-from-start-to-finish-matt-kloskowski?via=class-list-collection_3\",\n",
    "    \"https://onlinecoursemasters.com/\",\n",
    "    \"https://ocw.mit.edu/courses/mathematics/18-01-single-variable-calculus-fall-2006/index.htm\",\n",
    "    \"http://tutorial.math.lamar.edu/Classes/CalcI/CalcI.aspx\",\n",
    "    \"https://www.khanacademy.org/math/calculus-home\",\n",
    "    \"https://www.coursera.org/learn/calculus1\",\n",
    "    \"https://www.simplilearn.com/blockchain-certification-training\",\n",
    "]\n",
    "\n",
    "new_urls_false = [\n",
    "    \"https://twitter.com/?lang=en\",\n",
    "    \"http://iamafoodblog.com/\",\n",
    "    \"http://iamafoodblog.com/category/recipes/\",\n",
    "    \"https://keepvid.com/sites/download-youtube-video.html\",\n",
    "    \"https://en.wikipedia.org/wiki/Massive_open_online_course\",\n",
    "    \"https://github.com/\",\n",
    "    \"https://github.com/features\",\n",
    "    \"https://news.ycombinator.com/\",\n",
    "    \"https://www.schneems.com/2017/11/14/wtf-is-a-source-map/\",\n",
    "    \"https://medium.freecodecamp.org/using-svg-as-placeholders-more-image-loading-techniques-bed1b810ab2c\"\n",
    "]\n",
    "\n",
    "\n",
    "async_cache_pages(new_urls_true + new_urls_false)"
   ]
  },
  {
   "cell_type": "code",
   "execution_count": 108,
   "metadata": {
    "collapsed": false
   },
   "outputs": [],
   "source": [
    "# Not using these labels in the prediction but need them for df construction\n",
    "new_labels_true = [True] * len(new_urls_true)\n",
    "new_labels_false = [False] * len(new_urls_false)\n",
    "\n",
    "df_true = construct_text_df(new_urls_true, new_labels_true)\n",
    "df_false = construct_text_df(new_urls_false, new_labels_false)\n",
    "\n",
    "X_new_true = df_true[\"visible_text\"]\n",
    "X_new_false = df_false[\"visible_text\"]"
   ]
  },
  {
   "cell_type": "code",
   "execution_count": 109,
   "metadata": {
    "collapsed": false
   },
   "outputs": [
    {
     "data": {
      "text/plain": [
       "array([ True, False,  True,  True, False, False, False, False,  True,\n",
       "        True, False, False,  True,  True], dtype=bool)"
      ]
     },
     "execution_count": 109,
     "metadata": {},
     "output_type": "execute_result"
    }
   ],
   "source": [
    "pipeline3.predict(X_new_true)"
   ]
  },
  {
   "cell_type": "code",
   "execution_count": 110,
   "metadata": {
    "collapsed": false
   },
   "outputs": [
    {
     "data": {
      "text/plain": [
       "array([ 0.01797621, -0.03439607,  0.08594231,  0.13512135, -0.06181718,\n",
       "       -0.15405072, -0.00346216, -0.05705639,  0.90560204,  0.12373138,\n",
       "       -0.12965627, -0.22083891,  0.21134179,  0.02016643])"
      ]
     },
     "execution_count": 110,
     "metadata": {},
     "output_type": "execute_result"
    }
   ],
   "source": [
    "pipeline3.decision_function(X_new_true)"
   ]
  },
  {
   "cell_type": "code",
   "execution_count": 111,
   "metadata": {
    "collapsed": false
   },
   "outputs": [
    {
     "data": {
      "text/plain": [
       "array([False, False, False, False,  True, False, False, False, False, False], dtype=bool)"
      ]
     },
     "execution_count": 111,
     "metadata": {},
     "output_type": "execute_result"
    }
   ],
   "source": [
    "pipeline3.predict(X_new_false)"
   ]
  },
  {
   "cell_type": "code",
   "execution_count": 112,
   "metadata": {
    "collapsed": false
   },
   "outputs": [
    {
     "data": {
      "text/plain": [
       "array([-0.43295055, -0.45166017, -0.5944089 , -0.51565106,  0.00631062,\n",
       "       -0.32493084, -0.17016123, -0.80597136, -0.18449325, -0.2394083 ])"
      ]
     },
     "execution_count": 112,
     "metadata": {},
     "output_type": "execute_result"
    }
   ],
   "source": [
    "pipeline3.decision_function(X_new_false)"
   ]
  },
  {
   "cell_type": "markdown",
   "metadata": {},
   "source": [
    "Yes, works well because of the duplication in the training set, but we see that there are almost no false positive, and the false negatives have a value close to zero in the decision function, meaning it is \"unsure\"."
   ]
  },
  {
   "cell_type": "code",
   "execution_count": 113,
   "metadata": {
    "collapsed": false
   },
   "outputs": [
    {
     "name": "stdout",
     "output_type": "stream",
     "text": [
      "Error while downloading: http://blog.openclassrooms.com/en/. Status code: 403\n",
      "Error while downloading: https://about.udemy.com/blog/?ref=footer. Status code: 403\n",
      "Error while downloading: https://www.udemy.com/data-analysis-with-excel-pivot-tables/%20#does%20not%20work%20-%20403. Status code: 403\n",
      "Error while downloading: https://business.udemy.com/?ref=ufb_header. Status code: 403\n",
      "Error while downloading: https://about.udemy.com/careers/. Status code: 403\n",
      "Trying again to download 0 pages one at a time\n"
     ]
    }
   ],
   "source": [
    "folders = [\"general3\"]\n",
    "\n",
    "positives, negatives = urls_list(folders)\n",
    "async_cache_pages(positives + negatives)"
   ]
  },
  {
   "cell_type": "code",
   "execution_count": 114,
   "metadata": {
    "collapsed": false
   },
   "outputs": [],
   "source": [
    "# Same number of negative and positive examples\n",
    "urls = positives + random.sample(negatives, len(positives))\n",
    "labels = [True] * len(positives) + [False] * len(positives)"
   ]
  },
  {
   "cell_type": "code",
   "execution_count": 115,
   "metadata": {
    "collapsed": false
   },
   "outputs": [
    {
     "name": "stdout",
     "output_type": "stream",
     "text": [
      "Skipped https://www.udemy.com/data-analysis-with-excel-pivot-tables/ #does not work - 403, was not cached\n",
      "Skipped https://www.skillshare.com/classes/Low-Budget-Filmmaking-—-Tips-and-Tricks-for-an-Indie-Look/1077872333, was not cached\n",
      "Skipped http://blog.creativelive.com, was not cached\n",
      "Skipped https://about.udemy.com/careers/, was not cached\n",
      "Skipped https://www.skillshare.com, was not cached\n",
      "Skipped https://business.udemy.com/?ref=ufb_header, was not cached\n",
      "Skipped http://blog.openclassrooms.com/en/, was not cached\n"
     ]
    }
   ],
   "source": [
    "df = construct_text_df(urls, labels)\n",
    "X = df[\"visible_text\"]\n",
    "y = df.label"
   ]
  },
  {
   "cell_type": "code",
   "execution_count": 116,
   "metadata": {
    "collapsed": false,
    "scrolled": true
   },
   "outputs": [
    {
     "name": "stdout",
     "output_type": "stream",
     "text": [
      "             precision    recall  f1-score   support\n",
      "\n",
      "      False       1.00      0.24      0.39        54\n",
      "       True       0.53      1.00      0.69        46\n",
      "\n",
      "avg / total       0.78      0.59      0.53       100\n",
      "\n",
      "[[13 41]\n",
      " [ 0 46]]\n",
      "Accuracy: 0.59\n"
     ]
    }
   ],
   "source": [
    "# Multinomial NB\n",
    "analyse_classification(X, y, pipeline2)"
   ]
  },
  {
   "cell_type": "code",
   "execution_count": 128,
   "metadata": {
    "collapsed": false
   },
   "outputs": [
    {
     "name": "stdout",
     "output_type": "stream",
     "text": [
      "             precision    recall  f1-score   support\n",
      "\n",
      "      False       0.68      0.91      0.78        54\n",
      "       True       0.82      0.50      0.62        46\n",
      "\n",
      "avg / total       0.75      0.72      0.71       100\n",
      "\n",
      "[[49  5]\n",
      " [23 23]]\n",
      "Accuracy: 0.72\n"
     ]
    }
   ],
   "source": [
    "from sklearn.neighbors import KNeighborsClassifier\n",
    "pipeline4 = Pipeline([('vect', CountVectorizer()),\n",
    "                     ('tfidf', TfidfTransformer()),\n",
    "                     ('clf', KNeighborsClassifier(n_neighbors=5)),\n",
    "])\n",
    "analyse_classification(X, y, pipeline4)"
   ]
  },
  {
   "cell_type": "code",
   "execution_count": 117,
   "metadata": {
    "collapsed": false
   },
   "outputs": [
    {
     "name": "stdout",
     "output_type": "stream",
     "text": [
      "             precision    recall  f1-score   support\n",
      "\n",
      "      False       0.97      0.72      0.83        54\n",
      "       True       0.75      0.98      0.85        46\n",
      "\n",
      "avg / total       0.87      0.84      0.84       100\n",
      "\n",
      "[[39 15]\n",
      " [ 1 45]]\n",
      "Accuracy: 0.84\n"
     ]
    }
   ],
   "source": [
    "# Logistic regression\n",
    "analyse_classification(X, y, pipeline3)"
   ]
  },
  {
   "cell_type": "code",
   "execution_count": 118,
   "metadata": {
    "collapsed": true
   },
   "outputs": [],
   "source": [
    "from sklearn.externals import joblib\n",
    "import os"
   ]
  },
  {
   "cell_type": "code",
   "execution_count": 119,
   "metadata": {
    "collapsed": false
   },
   "outputs": [
    {
     "data": {
      "text/plain": [
       "['saved/models/log_reg_pipeline_general3.pkl']"
      ]
     },
     "execution_count": 119,
     "metadata": {},
     "output_type": "execute_result"
    }
   ],
   "source": [
    "joblib.dump(pipeline3, os.path.join('saved', 'models', 'log_reg_pipeline_general3.pkl'))"
   ]
  },
  {
   "cell_type": "markdown",
   "metadata": {},
   "source": [
    "The best classifier for NLP is not the same as for Structural Features. Also, LogisticRegression is convenient because it gives a \"decision_function\" that can be used later on."
   ]
  },
  {
   "cell_type": "code",
   "execution_count": null,
   "metadata": {
    "collapsed": false
   },
   "outputs": [],
   "source": []
  },
  {
   "cell_type": "code",
   "execution_count": null,
   "metadata": {
    "collapsed": true
   },
   "outputs": [],
   "source": []
  }
 ],
 "metadata": {
  "anaconda-cloud": {},
  "kernelspec": {
   "display_name": "Python [default]",
   "language": "python",
   "name": "python3"
  },
  "language_info": {
   "codemirror_mode": {
    "name": "ipython",
    "version": 3
   },
   "file_extension": ".py",
   "mimetype": "text/x-python",
   "name": "python",
   "nbconvert_exporter": "python",
   "pygments_lexer": "ipython3",
   "version": "3.5.2"
  }
 },
 "nbformat": 4,
 "nbformat_minor": 1
}
