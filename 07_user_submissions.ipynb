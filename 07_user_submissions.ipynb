{
 "cells": [
  {
   "cell_type": "code",
   "execution_count": null,
   "metadata": {
    "collapsed": true
   },
   "outputs": [],
   "source": [
    "%matplotlib inline\n",
    "import pandas as pd\n",
    "import numpy as np\n",
    "import matplotlib.pyplot as plt\n",
    "import seaborn as sns\n",
    "sns.set_context('notebook')\n",
    "\n",
    "%load_ext autoreload\n",
    "%autoreload 2"
   ]
  },
  {
   "cell_type": "code",
   "execution_count": null,
   "metadata": {
    "collapsed": true
   },
   "outputs": [],
   "source": [
    "import os\n",
    "import random"
   ]
  },
  {
   "cell_type": "code",
   "execution_count": null,
   "metadata": {
    "collapsed": false
   },
   "outputs": [],
   "source": [
    "from sklearn.pipeline import Pipeline\n",
    "from sklearn.externals import joblib\n",
    "from sklearn.linear_model import LogisticRegression\n",
    "from sklearn.naive_bayes import MultinomialNB\n",
    "from sklearn.feature_extraction.text import CountVectorizer\n",
    "from sklearn.feature_extraction.text import TfidfTransformer\n",
    "\n",
    "from sklearn import metrics"
   ]
  },
  {
   "cell_type": "code",
   "execution_count": null,
   "metadata": {
    "collapsed": true
   },
   "outputs": [],
   "source": [
    "import mpld3\n",
    "mpld3.enable_notebook()"
   ]
  },
  {
   "cell_type": "code",
   "execution_count": null,
   "metadata": {
    "collapsed": false
   },
   "outputs": [],
   "source": [
    "from crawler import BFS_crawl, draw_graph\n",
    "from helpers import async_cache_pages, urls_list\n",
    "from features import construct_text_df"
   ]
  },
  {
   "cell_type": "code",
   "execution_count": null,
   "metadata": {
    "collapsed": true
   },
   "outputs": [],
   "source": [
    "seed = 0\n",
    "random.seed(seed)"
   ]
  },
  {
   "cell_type": "code",
   "execution_count": null,
   "metadata": {
    "collapsed": true
   },
   "outputs": [],
   "source": [
    "folder_train = ['train-1']\n",
    "folder_test_easy = ['test-easy']\n",
    "folder_test_hard = ['test-hard']"
   ]
  },
  {
   "cell_type": "code",
   "execution_count": null,
   "metadata": {
    "collapsed": true
   },
   "outputs": [],
   "source": [
    "def balanced_classes(df):\n",
    "    n_pos = sum(df.label == True)\n",
    "    n_neg = sum(df.label == False)\n",
    "\n",
    "    min_pos_neg = min(n_pos, n_neg)\n",
    "\n",
    "\n",
    "    return pd.concat([\n",
    "            df[df.label == False].sample(min_pos_neg, random_state=seed), \n",
    "            df[df.label == True].sample(min_pos_neg, random_state=seed)\n",
    "    ])"
   ]
  },
  {
   "cell_type": "code",
   "execution_count": null,
   "metadata": {
    "collapsed": true
   },
   "outputs": [],
   "source": [
    "def analyse_easy_hard(folder_train, folder_test_easy, folder_test_hard, download_pages=True):\n",
    "    train_pos, train_neg = urls_list(folder_train)\n",
    "    \n",
    "    test_pos_easy, test_neg_easy = urls_list(folder_test_easy)\n",
    "    test_pos_hard, test_neg_hard = urls_list(folder_test_hard)\n",
    "\n",
    "    if download_pages:\n",
    "        print(\"Downloading pages\")\n",
    "        async_cache_pages(train_pos + train_neg + test_pos_easy + test_neg_easy + test_pos_hard + test_neg_hard)\n",
    "    \n",
    "    print(\"Constructing text dataframes\")\n",
    "    train_df = construct_text_df(train_pos + train_neg, [True] * len(train_pos) + [False] * len(train_neg))\n",
    "    test_easy_df = construct_text_df(test_pos_easy + test_neg_easy, [True] * len(test_pos_easy) + [False] * len(test_neg_easy))\n",
    "    test_hard_df = construct_text_df(test_pos_hard + test_neg_hard, [True] * len(test_pos_hard) + [False] * len(test_neg_hard))\n",
    "\n",
    "    train_df_balanced = balanced_classes(train_df)\n",
    "   \n",
    "    pipeline = Pipeline([\n",
    "        ('vect', CountVectorizer()),\n",
    "        ('tfidf', TfidfTransformer()),\n",
    "        ('clf', LogisticRegression(random_state = seed, max_iter=1000)),\n",
    "    ])\n",
    "\n",
    "    print(\"Training the model\")\n",
    "    pipeline.fit(train_df_balanced.visible_text, train_df_balanced.label)\n",
    "\n",
    "    print(\"Predictions on test sets\")\n",
    "    y_easy_pred = pipeline.predict(test_easy_df.visible_text)\n",
    "    y_easy_test = test_easy_df.label\n",
    "    \n",
    "    y_hard_pred = pipeline.predict(test_hard_df.visible_text)\n",
    "    y_hard_test = test_hard_df.label\n",
    "\n",
    "    print(\"==Easy task==\")\n",
    "    print(metrics.classification_report(y_easy_test, y_easy_pred))\n",
    "    print(metrics.confusion_matrix(y_easy_test, y_easy_pred))\n",
    "    easy_accuracy = metrics.accuracy_score(y_easy_test, y_easy_pred)\n",
    "    print(\"Accuracy: {}\".format(easy_accuracy))\n",
    "\n",
    "    print(\"==Hard task==\")\n",
    "    print(metrics.classification_report(y_hard_test, y_hard_pred))\n",
    "    print(metrics.confusion_matrix(y_hard_test, y_hard_pred))\n",
    "    hard_accuracy = metrics.accuracy_score(y_hard_test, y_hard_pred)\n",
    "    print(\"Accuracy: {}\".format(hard_accuracy))\n",
    "    \n",
    "    return pipeline, easy_accuracy, hard_accuracy\n"
   ]
  },
  {
   "cell_type": "code",
   "execution_count": null,
   "metadata": {
    "collapsed": false,
    "scrolled": false
   },
   "outputs": [],
   "source": [
    "analyse_easy_hard(folder_train, folder_test_easy, folder_test_hard, download_pages=False)"
   ]
  },
  {
   "cell_type": "code",
   "execution_count": null,
   "metadata": {
    "collapsed": true
   },
   "outputs": [],
   "source": [
    "class RootUrlIterator:\n",
    "    def __init__(self, base, query_beginning, query_ends):\n",
    "        self.query_index = 0\n",
    "        self.base = base\n",
    "        self.query_beginning = query_beginning \n",
    "        self.query_ends = query_ends\n",
    "        \n",
    "    def __next__(self):\n",
    "        next_query_end = self.query_ends[self.query_index]\n",
    "        self.query_index = (self.query_index + 1) % len(self.query_ends)\n",
    "        \n",
    "        return \"{}{} {}\".format(self.base, self.query_beginning, next_query_end)"
   ]
  },
  {
   "cell_type": "code",
   "execution_count": null,
   "metadata": {
    "collapsed": false
   },
   "outputs": [],
   "source": [
    "possible_learning_fields = [\"Mathematics\", \"Science\", \"Health\", \"Art\", \"Music\", \"Dance\", \n",
    "                        \"Leadership\", \"Algebra\", \"Life Science\", \"Social Studies\", \"Geography\",\n",
    "                        \"Programming\", \"History\", \"Biology\"]\n",
    "\n",
    "root_iterator = RootUrlIterator(\"https://www.google.ch/search?q=\", \"Online Course\", possible_learning_fields)\n"
   ]
  },
  {
   "cell_type": "code",
   "execution_count": null,
   "metadata": {
    "collapsed": false
   },
   "outputs": [],
   "source": [
    "for i in range(15):\n",
    "    print(next(root_iterator))"
   ]
  },
  {
   "cell_type": "code",
   "execution_count": null,
   "metadata": {
    "collapsed": false
   },
   "outputs": [],
   "source": [
    "pipeline_initial, accuracy_initial_easy, accuracy_initial_hard = analyse_easy_hard(folder_train, folder_test_easy, folder_test_hard, download_pages=False)"
   ]
  },
  {
   "cell_type": "code",
   "execution_count": null,
   "metadata": {
    "collapsed": false
   },
   "outputs": [],
   "source": [
    "root_initial = next(root_iterator)\n",
    "print(root_initial)\n",
    "\n",
    "G_initial = BFS_crawl(random_root, 3, 3, save=True, pipeline=pipeline_initial)"
   ]
  },
  {
   "cell_type": "code",
   "execution_count": null,
   "metadata": {
    "collapsed": false
   },
   "outputs": [],
   "source": [
    "# USE GOOGLE API INSTEAD"
   ]
  },
  {
   "cell_type": "code",
   "execution_count": null,
   "metadata": {
    "collapsed": false
   },
   "outputs": [],
   "source": []
  },
  {
   "cell_type": "code",
   "execution_count": null,
   "metadata": {
    "collapsed": false
   },
   "outputs": [],
   "source": [
    "draw_graph(G_initial, plt, print_pos=True)"
   ]
  },
  {
   "cell_type": "code",
   "execution_count": null,
   "metadata": {
    "collapsed": true
   },
   "outputs": [],
   "source": []
  },
  {
   "cell_type": "code",
   "execution_count": null,
   "metadata": {
    "collapsed": true
   },
   "outputs": [],
   "source": []
  },
  {
   "cell_type": "code",
   "execution_count": null,
   "metadata": {
    "collapsed": false
   },
   "outputs": [],
   "source": [
    "urls = [\"http://www.independent.co.uk/\"]"
   ]
  },
  {
   "cell_type": "code",
   "execution_count": null,
   "metadata": {
    "collapsed": false
   },
   "outputs": [],
   "source": [
    "async_cache_pages(urls)"
   ]
  },
  {
   "cell_type": "code",
   "execution_count": null,
   "metadata": {
    "collapsed": false
   },
   "outputs": [],
   "source": [
    "from helpers import get_cached\n",
    "from features import extract_visible\n",
    "from bs4 import BeautifulSoup"
   ]
  },
  {
   "cell_type": "code",
   "execution_count": null,
   "metadata": {
    "collapsed": false
   },
   "outputs": [],
   "source": [
    "#extract_visible(BeautifulSoup(get_cached(urls[0]), 'lxml'))"
   ]
  },
  {
   "cell_type": "code",
   "execution_count": null,
   "metadata": {
    "collapsed": true
   },
   "outputs": [],
   "source": []
  }
 ],
 "metadata": {
  "anaconda-cloud": {},
  "kernelspec": {
   "display_name": "Python [conda root]",
   "language": "python",
   "name": "conda-root-py"
  },
  "language_info": {
   "codemirror_mode": {
    "name": "ipython",
    "version": 3
   },
   "file_extension": ".py",
   "mimetype": "text/x-python",
   "name": "python",
   "nbconvert_exporter": "python",
   "pygments_lexer": "ipython3",
   "version": "3.5.2"
  }
 },
 "nbformat": 4,
 "nbformat_minor": 1
}
