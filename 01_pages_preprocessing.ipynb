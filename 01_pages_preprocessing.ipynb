{
 "cells": [
  {
   "cell_type": "code",
   "execution_count": 1,
   "metadata": {
    "collapsed": true
   },
   "outputs": [],
   "source": [
    "%matplotlib inline\n",
    "import pandas as pd\n",
    "import numpy as np\n",
    "import matplotlib.pyplot as plt\n",
    "import seaborn as sns\n",
    "sns.set_context('notebook')"
   ]
  },
  {
   "cell_type": "code",
   "execution_count": 2,
   "metadata": {
    "collapsed": true
   },
   "outputs": [],
   "source": [
    "import requests\n",
    "from bs4 import BeautifulSoup\n",
    "from bs4.element import Comment"
   ]
  },
  {
   "cell_type": "code",
   "execution_count": 3,
   "metadata": {
    "collapsed": false
   },
   "outputs": [],
   "source": [
    "webpages_path = \"webpages/manually_selected\""
   ]
  },
  {
   "cell_type": "code",
   "execution_count": 4,
   "metadata": {
    "collapsed": true
   },
   "outputs": [],
   "source": [
    "def urls_path(folder, positive=True):\n",
    "    '''Return path of a given file containing urls'''\n",
    "    pos = \"positive\" if positive else \"negative\"\n",
    "    path = \"{}/urls/{}-{}.txt\".format(webpages_path, folder, pos)\n",
    "    return path\n",
    "\n",
    "def urls_list_folder(folder, positive=True):\n",
    "    '''Return the list of urls in given folder'''\n",
    "    path = urls_path(folder, positive)\n",
    "\n",
    "    with open(path, 'r') as f:\n",
    "        urls = list(l.strip() for l in f if l[0] != \"#\")\n",
    "    f.close()\n",
    "\n",
    "    return urls\n",
    "\n",
    "def urls_list(folders):\n",
    "    '''\n",
    "    Construct positive and negative url list, concatenated\n",
    "    for all given folders\n",
    "    '''\n",
    "    positives = []\n",
    "    negatives = []\n",
    "\n",
    "    for folder in folders:\n",
    "        positives.extend(urls_list_folder(folder, positive=True))\n",
    "        negatives.extend(urls_list_folder(folder, positive=False))\n",
    "\n",
    "    return positives, negatives"
   ]
  },
  {
   "cell_type": "code",
   "execution_count": 5,
   "metadata": {
    "collapsed": false
   },
   "outputs": [],
   "source": [
    "positives, negatives = urls_list([\"coursera\"])"
   ]
  },
  {
   "cell_type": "code",
   "execution_count": 6,
   "metadata": {
    "collapsed": false
   },
   "outputs": [
    {
     "data": {
      "text/plain": [
       "(['https://www.coursera.org/learn/fashion-design',\n",
       "  'https://www.coursera.org/learn/science-of-meditation',\n",
       "  'https://www.coursera.org/learn/journey-of-the-universe'],\n",
       " ['https://www.coursera.org/',\n",
       "  'https://www.coursera.org/enterprise',\n",
       "  'https://www.coursera.org/about/partners'])"
      ]
     },
     "execution_count": 6,
     "metadata": {},
     "output_type": "execute_result"
    }
   ],
   "source": [
    "positives[:3], negatives[:3]"
   ]
  },
  {
   "cell_type": "code",
   "execution_count": 7,
   "metadata": {
    "collapsed": false
   },
   "outputs": [],
   "source": [
    "r = requests.get(positives[0])"
   ]
  },
  {
   "cell_type": "code",
   "execution_count": 8,
   "metadata": {
    "collapsed": false
   },
   "outputs": [
    {
     "data": {
      "text/plain": [
       "200"
      ]
     },
     "execution_count": 8,
     "metadata": {},
     "output_type": "execute_result"
    }
   ],
   "source": [
    "r.status_code"
   ]
  },
  {
   "cell_type": "code",
   "execution_count": 9,
   "metadata": {
    "collapsed": false
   },
   "outputs": [],
   "source": [
    "soup = BeautifulSoup(r.text, \"lxml\")"
   ]
  },
  {
   "cell_type": "code",
   "execution_count": 10,
   "metadata": {
    "collapsed": false
   },
   "outputs": [
    {
     "name": "stdout",
     "output_type": "stream",
     "text": [
      "<body>\n",
      " <div id=\"fb-root\">\n",
      " </div>\n",
      " <div id=\"rendered-content\">\n",
      "  <div class=\"rc-MetatagsWrapper\" data-react-checksum=\"-53926488\" data-reactid=\"1\" data-reactroot=\"\">\n",
      "   <!-- react-empty: 2 -->\n",
      "   <div class=\"rc-PhoenixCdpApplication\" data-reactid=\"3\">\n",
      "    <div data-reactid=\"4\">\n",
      "     <div class=\"rc-PhoenixCdp2016\" data-reactid=\"5\" data-track=\"true\" data-track-action=\"click\" data-track-app=\"discovery\" data-track-component=\"page\" data-track-page=\"phoenix_cdp\" role=\"presentation\">\n",
      "      <div class=\"rc-PageHeaderControls\" data-reactid=\"6\">\n",
      "       <div class=\"rc-MobilePromoOption\" data-reactid=\"7\">\n",
      "        <span data-reactid=\"8\">\n",
      "        </span>\n",
      "       </div>\n",
      "       <div class=\"smart-scroll-container\" data-reactid=\"9\">\n",
      "        <div class=\"SmartScrollWrapper_1g73uxh\" data-reactid=\"10\" style=\"z-index:3000;box-shadow:none;\">\n",
      "         <div class=\"rc-PageHeader\" data-reactid=\"11\">\n",
      "          <nav class=\"bt3-navbar c-ph-nav full-width\" data-reactid=\"12\">\n",
      "           <div class=\"c-container bt3-conta\n"
     ]
    }
   ],
   "source": [
    "print(soup.html.body.prettify()[:1000])"
   ]
  },
  {
   "cell_type": "code",
   "execution_count": 11,
   "metadata": {
    "collapsed": false
   },
   "outputs": [
    {
     "data": {
      "text/plain": [
       "[' react-empty: 2 ',\n",
       " 'Toggle navigation',\n",
       " 'Navigation open',\n",
       " 'Navigation closed',\n",
       " 'Catalog',\n",
       " 'Browse',\n",
       " 'Search',\n",
       " 'For Enterprise',\n",
       " 'Log In',\n",
       " 'Sign Up']"
      ]
     },
     "execution_count": 11,
     "metadata": {},
     "output_type": "execute_result"
    }
   ],
   "source": [
    "all_text = soup.html.body.findAll(text=True)\n",
    "all_text[:10]"
   ]
  },
  {
   "cell_type": "code",
   "execution_count": 12,
   "metadata": {
    "collapsed": false
   },
   "outputs": [],
   "source": [
    "def tag_visible(element):\n",
    "    '''Keep only visible elements'''\n",
    "    if element.parent.name in ['style', 'script', 'head', 'title', 'meta', '[document]']:\n",
    "        return False\n",
    "    if isinstance(element, Comment):\n",
    "        return False\n",
    "    return True"
   ]
  },
  {
   "cell_type": "code",
   "execution_count": 13,
   "metadata": {
    "collapsed": false
   },
   "outputs": [
    {
     "data": {
      "text/plain": [
       "['Toggle navigation',\n",
       " 'Navigation open',\n",
       " 'Navigation closed',\n",
       " 'Catalog',\n",
       " 'Browse',\n",
       " 'Search',\n",
       " 'For Enterprise',\n",
       " 'Log In',\n",
       " 'Sign Up',\n",
       " 'Fashion as Design',\n",
       " 'Enroll',\n",
       " 'Overview',\n",
       " 'Syllabus',\n",
       " 'FAQs',\n",
       " 'Creators']"
      ]
     },
     "execution_count": 13,
     "metadata": {},
     "output_type": "execute_result"
    }
   ],
   "source": [
    "list(filter(tag_visible, all_text))[:15]"
   ]
  },
  {
   "cell_type": "code",
   "execution_count": 14,
   "metadata": {
    "collapsed": true
   },
   "outputs": [],
   "source": [
    "import re\n",
    "\n",
    "def extract_visible(soup):\n",
    "    text = soup.html.body.findAll(text=True)\n",
    "    s = ' '.join(filter(tag_visible, text))\n",
    "    return re.sub(\"\\s\\s+\" , \" \", s) # remove all double spaces and tabs/newlines/etc."
   ]
  },
  {
   "cell_type": "code",
   "execution_count": 15,
   "metadata": {
    "collapsed": false
   },
   "outputs": [
    {
     "data": {
      "text/plain": [
       "'Toggle navigation Navigation open Navigation closed Catalog Browse Search For Enterprise Log In Sign Up Fashion as Design Enroll Overview Syllabus FAQs Creators Ratings and Reviews Fashion as Design Enroll Starts Jan 22 Financial Aid is available for learners who cannot afford the fee. Learn more and apply. Home Arts and Humanities Music and Art Fashion as Design The Museum of Modern Art About this course: Among all objects of design, our clothes are the most universal and intimate. Like other kinds of design, fashion thrives on productive tensions between form and function, automation and craftsmanship, standardization and customization, universality and self-expression, and pragmatism and utopian vision. It exists in the service of others, and it can have profound consequencesâ\\x80\\x94social, political, cultural, economic, and environmental. Fashion as Design focuses on a selection of more than 70 garments and accessories from around the world, ranging from kente cloth to jeans to 3D-print'"
      ]
     },
     "execution_count": 15,
     "metadata": {},
     "output_type": "execute_result"
    }
   ],
   "source": [
    "extract_visible(soup)[:1000]"
   ]
  },
  {
   "cell_type": "code",
   "execution_count": 16,
   "metadata": {
    "collapsed": false
   },
   "outputs": [
    {
     "name": "stdout",
     "output_type": "stream",
     "text": [
      "=coursera, positive=\n",
      "\n",
      "Toggle navigation Navigation open Navigation closed Catalog Browse Search For Enterprise Log In Sign Up Fashion as Design Enroll Overview Syllabus FAQs Creators Ratings and Reviews Fashion as Design Enroll Starts Jan 22 Financial Aid is available for learners who cannot afford the fee. Learn more and apply. Home Arts and Humanities Music and Art Fashion as Design The Museum of Modern Art About this course: Among all objects of design, our clothes are the most universal and intimate. Like other kinds of design, fashion thrives on productive tensions between form and function, automation and craftsmanship, standardization and customization, universality and self-expression, and pragmatism and utopian vision. It exists in the service of others, and it can have profound consequencesâsocial, political, cultural, economic, and environmental. Fashion as Design focuses on a selection of more than 70 garments and accessories from around the world, ranging from kente cloth to jeans to 3D-print\n",
      "\n",
      "=coursera, negative=\n",
      "\n",
      "Toggle navigation Navigation open Navigation closed Catalog Browse Search For Enterprise Log In Sign Up Take the world's best courses, online. Join for free Take the world's best courses, online. Join for free See All Google IT Support Professional Certificate Join a rapidly growing career field! Get prepared to become an IT Support Specialist in just 8-to-12 months. No previous experience is required. Learn More Top Specializations See All deeplearning.ai Deep Learning 5 courses deeplearning.ai Deep Learning View Specialization University of Michigan Python for Everybody 5 courses University of Michigan Python for Everybody View Specialization Johns Hopkins University Data Science 10 courses Johns Hopkins University Data Science View Specialization University of Michigan Applied Data Science with Python 5 courses University of Michigan Applied Data Science with Python View Specialization University of Illinois at Urbana-Champaign Strategic Leadership and Management 7 courses Universit\n",
      "\n",
      "=edX, positive=\n",
      "\n",
      " Skip to main content \n",
      "\n",
      "=edX, negative=\n",
      "\n",
      " Skip to main content Home View all 500 + Courses WellesleyX: HIST229x: Was Alexander Great? The Life, Leadership, and Legacies of History’s Greatest Warrior \n",
      "\n",
      "=general, positive=\n",
      "\n",
      " \n",
      "\n",
      "=general, negative=\n",
      "\n",
      " Navigate at sbb.ch To contents To contact Go to SBB home page Service links Search Open Search term or web code Search Buy Article Login Menu Menu Timetable Close active menu item Timetable. Back Timetable Rail traffic information Operational position Additional trains Regional traffic Online timetable Departure & Arrival Trains & Routes Map & Real-time timetable Confirmation of delay Mobile Apps SBB Mobile SBB Mobile Preview Other Apps Printed timetables Departure posters & Pocket timetables Personal timetable Timetable information Partner Programme Information status Timetable change Travelcards & tickets Close active menu item Travelcards & tickets. Back Travelcards & tickets Buying options Buy here Online SBB Mobile Ticket machine Travel centre RailAway leisure shop Swiss travelcards & SwissPass GA travelcard Half-Fare travelcard Track 7 Point-to-point travelcards Regional travelcards Modular travelcard Junior travelcard and Children’s Co-travelcard Find the best travelcard SwissP\n",
      "\n"
     ]
    }
   ],
   "source": [
    "for folder in (\"coursera\", \"edX\", \"general\"):\n",
    "    pos_urls, neg_urls = urls_list([folder])\n",
    "    r_pos = requests.get(pos_urls[0])\n",
    "    soup_pos = BeautifulSoup(r_pos.text, \"lxml\")\n",
    "    \n",
    "    r_neg = requests.get(neg_urls[0])\n",
    "    soup_neg = BeautifulSoup(r_neg.text, \"lxml\")\n",
    "\n",
    "    print(\"={}, {}=\".format(folder, \"positive\"))\n",
    "    print()\n",
    "    print(extract_visible(soup_pos)[:1000])\n",
    "    print()\n",
    "    \n",
    "    print(\"={}, {}=\".format(folder, \"negative\"))\n",
    "    print()\n",
    "    print(extract_visible(soup_neg)[:1000])\n",
    "    print()\n",
    "            "
   ]
  },
  {
   "cell_type": "code",
   "execution_count": 19,
   "metadata": {
    "collapsed": false
   },
   "outputs": [
    {
     "name": "stdout",
     "output_type": "stream",
     "text": [
      "=general=\n",
      "\n",
      " Skip to main content \n",
      "=general=\n",
      "\n",
      " Skip to main content \n",
      "=general=\n",
      "\n",
      " Skip to main content \n",
      "=general=\n",
      "\n",
      " Skip to main content \n",
      "=general=\n",
      "\n",
      " Skip to main content \n"
     ]
    }
   ],
   "source": [
    "pos_urls, neg_urls = urls_list([\"edX\"])\n",
    "\n",
    "for url in pos_urls[:5]:\n",
    "    r = requests.get(url)\n",
    "    soup = BeautifulSoup(r.text, \"lxml\")\n",
    "\n",
    "    print(\"={}=\".format(folder))\n",
    "    print()\n",
    "    print(extract_visible(soup)[:1000])"
   ]
  },
  {
   "cell_type": "code",
   "execution_count": null,
   "metadata": {
    "collapsed": true
   },
   "outputs": [],
   "source": []
  },
  {
   "cell_type": "code",
   "execution_count": null,
   "metadata": {
    "collapsed": true
   },
   "outputs": [],
   "source": []
  },
  {
   "cell_type": "code",
   "execution_count": null,
   "metadata": {
    "collapsed": true
   },
   "outputs": [],
   "source": []
  },
  {
   "cell_type": "code",
   "execution_count": null,
   "metadata": {
    "collapsed": true
   },
   "outputs": [],
   "source": []
  },
  {
   "cell_type": "code",
   "execution_count": null,
   "metadata": {
    "collapsed": true
   },
   "outputs": [],
   "source": []
  },
  {
   "cell_type": "code",
   "execution_count": null,
   "metadata": {
    "collapsed": true
   },
   "outputs": [],
   "source": []
  }
 ],
 "metadata": {
  "anaconda-cloud": {},
  "kernelspec": {
   "display_name": "Python [conda root]",
   "language": "python",
   "name": "conda-root-py"
  },
  "language_info": {
   "codemirror_mode": {
    "name": "ipython",
    "version": 3
   },
   "file_extension": ".py",
   "mimetype": "text/x-python",
   "name": "python",
   "nbconvert_exporter": "python",
   "pygments_lexer": "ipython3",
   "version": "3.5.2"
  }
 },
 "nbformat": 4,
 "nbformat_minor": 1
}
