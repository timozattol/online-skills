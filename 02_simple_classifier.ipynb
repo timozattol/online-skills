{
 "cells": [
  {
   "cell_type": "code",
   "execution_count": 1,
   "metadata": {
    "collapsed": true
   },
   "outputs": [],
   "source": [
    "%matplotlib inline\n",
    "import pandas as pd\n",
    "import numpy as np\n",
    "import matplotlib.pyplot as plt\n",
    "import seaborn as sns\n",
    "sns.set_context('notebook')"
   ]
  },
  {
   "cell_type": "code",
   "execution_count": 2,
   "metadata": {
    "collapsed": true
   },
   "outputs": [],
   "source": [
    "import requests\n",
    "import re\n",
    "\n",
    "from bs4 import BeautifulSoup\n",
    "from bs4.element import Comment"
   ]
  },
  {
   "cell_type": "code",
   "execution_count": 3,
   "metadata": {
    "collapsed": true
   },
   "outputs": [],
   "source": [
    "# Project paths\n",
    "\n",
    "manual_path = \"webpages/manually_selected\"\n",
    "\n",
    "def urls_path(folder, positive=True):\n",
    "    pos = \"positive\" if positive else \"negative\"\n",
    "    path = \"{}/urls/{}-{}.txt\".format(manual_path, folder, pos)\n",
    "    return path\n",
    "\n",
    "def urls_list(folder, positive=True):\n",
    "    path = urls_path(folder, positive)\n",
    "    \n",
    "    \n",
    "    with open(path, 'r') as f:\n",
    "        urls = list(l.strip() for l in f if l[0] != \"#\")\n",
    "    f.close()\n",
    "    \n",
    "    return urls"
   ]
  },
  {
   "cell_type": "code",
   "execution_count": 4,
   "metadata": {
    "collapsed": false
   },
   "outputs": [],
   "source": [
    "# Keep visible text\n",
    "\n",
    "def tag_visible(element):\n",
    "    '''Keep only visible elements'''\n",
    "    if element.parent.name in ['style', 'script', 'head', 'title', 'meta', '[document]']:\n",
    "        return False\n",
    "    if isinstance(element, Comment):\n",
    "        return False\n",
    "    return True\n",
    "\n",
    "def extract_visible(soup):\n",
    "    text = soup.html.body.findAll(text=True)\n",
    "    s = ' '.join(filter(tag_visible, text))\n",
    "    return re.sub(\"\\s\\s+\" , \" \", s) # remove all double spaces and tabs/newlines/etc."
   ]
  },
  {
   "cell_type": "code",
   "execution_count": 5,
   "metadata": {
    "collapsed": false
   },
   "outputs": [],
   "source": [
    "positives = urls_list(\"coursera\") + urls_list(\"general\")\n",
    "negatives = urls_list(\"coursera\", False) + urls_list(\"general\", False)"
   ]
  },
  {
   "cell_type": "code",
   "execution_count": 6,
   "metadata": {
    "collapsed": false
   },
   "outputs": [],
   "source": [
    "def get_soup(url):\n",
    "    r = requests.get(url)\n",
    "    soup = BeautifulSoup(r.text, \"lxml\")\n",
    "    \n",
    "    return soup"
   ]
  },
  {
   "cell_type": "code",
   "execution_count": 7,
   "metadata": {
    "collapsed": false
   },
   "outputs": [],
   "source": [
    "def construct_features(soup, url, label):\n",
    "    \n",
    "    feats = {\n",
    "        \"url\": url,\n",
    "        \"label\": label,\n",
    "        \"a_count\": len(soup.find_all(\"a\")),\n",
    "        \"iframe_count\": len(soup.find_all(\"iframe\")),\n",
    "        \"h1_count\": len(soup.find_all(\"h1\")),\n",
    "        \"h2_count\": len(soup.find_all(\"h2\")),\n",
    "        \"h3_count\": len(soup.find_all(\"h3\")),\n",
    "        \"video_count\": len(soup.find_all(\"video\")),\n",
    "        \"button_count\": len(soup.find_all(\"button\"))\n",
    "        \n",
    "    }\n",
    "    \n",
    "    return feats.keys(), feats.values()"
   ]
  },
  {
   "cell_type": "code",
   "execution_count": 8,
   "metadata": {
    "collapsed": false
   },
   "outputs": [
    {
     "data": {
      "text/plain": [
       "dict_keys(['h2_count', 'iframe_count', 'button_count', 'url', 'h1_count', 'video_count', 'a_count', 'h3_count', 'label'])"
      ]
     },
     "execution_count": 8,
     "metadata": {},
     "output_type": "execute_result"
    }
   ],
   "source": [
    "first_url = positives[0]\n",
    "columns = construct_features(get_soup(first_url), first_url, True)[0]\n",
    "columns"
   ]
  },
  {
   "cell_type": "code",
   "execution_count": 9,
   "metadata": {
    "collapsed": true
   },
   "outputs": [],
   "source": [
    "row_list = []"
   ]
  },
  {
   "cell_type": "code",
   "execution_count": 10,
   "metadata": {
    "collapsed": false
   },
   "outputs": [],
   "source": [
    "for url in positives[:5]:\n",
    "    row_list.append(construct_features(get_soup(url), url, True)[1])\n",
    "    \n",
    "for url in negatives[:5]:\n",
    "    row_list.append(construct_features(get_soup(url), url, False)[1])"
   ]
  },
  {
   "cell_type": "code",
   "execution_count": 11,
   "metadata": {
    "collapsed": false
   },
   "outputs": [],
   "source": [
    "df = pd.DataFrame(row_list, columns=columns)\n",
    "df = df.set_index(\"url\")"
   ]
  },
  {
   "cell_type": "code",
   "execution_count": 12,
   "metadata": {
    "collapsed": false
   },
   "outputs": [
    {
     "data": {
      "text/html": [
       "<div>\n",
       "<style>\n",
       "    .dataframe thead tr:only-child th {\n",
       "        text-align: right;\n",
       "    }\n",
       "\n",
       "    .dataframe thead th {\n",
       "        text-align: left;\n",
       "    }\n",
       "\n",
       "    .dataframe tbody tr th {\n",
       "        vertical-align: top;\n",
       "    }\n",
       "</style>\n",
       "<table border=\"1\" class=\"dataframe\">\n",
       "  <thead>\n",
       "    <tr style=\"text-align: right;\">\n",
       "      <th></th>\n",
       "      <th>h2_count</th>\n",
       "      <th>iframe_count</th>\n",
       "      <th>button_count</th>\n",
       "      <th>h1_count</th>\n",
       "      <th>video_count</th>\n",
       "      <th>a_count</th>\n",
       "      <th>h3_count</th>\n",
       "      <th>label</th>\n",
       "    </tr>\n",
       "    <tr>\n",
       "      <th>url</th>\n",
       "      <th></th>\n",
       "      <th></th>\n",
       "      <th></th>\n",
       "      <th></th>\n",
       "      <th></th>\n",
       "      <th></th>\n",
       "      <th></th>\n",
       "      <th></th>\n",
       "    </tr>\n",
       "  </thead>\n",
       "  <tbody>\n",
       "    <tr>\n",
       "      <th>https://www.coursera.org/learn/thomas-berry/</th>\n",
       "      <td>2</td>\n",
       "      <td>0</td>\n",
       "      <td>18</td>\n",
       "      <td>1</td>\n",
       "      <td>0</td>\n",
       "      <td>64</td>\n",
       "      <td>0</td>\n",
       "      <td>True</td>\n",
       "    </tr>\n",
       "    <tr>\n",
       "      <th>https://www.coursera.org/unige</th>\n",
       "      <td>0</td>\n",
       "      <td>0</td>\n",
       "      <td>1</td>\n",
       "      <td>1</td>\n",
       "      <td>0</td>\n",
       "      <td>254</td>\n",
       "      <td>0</td>\n",
       "      <td>False</td>\n",
       "    </tr>\n",
       "    <tr>\n",
       "      <th>https://www.coursera.org/learn/journey-knowledge-action</th>\n",
       "      <td>2</td>\n",
       "      <td>0</td>\n",
       "      <td>18</td>\n",
       "      <td>1</td>\n",
       "      <td>0</td>\n",
       "      <td>64</td>\n",
       "      <td>0</td>\n",
       "      <td>True</td>\n",
       "    </tr>\n",
       "    <tr>\n",
       "      <th>https://www.coursera.org/</th>\n",
       "      <td>1</td>\n",
       "      <td>0</td>\n",
       "      <td>4</td>\n",
       "      <td>2</td>\n",
       "      <td>0</td>\n",
       "      <td>103</td>\n",
       "      <td>11</td>\n",
       "      <td>False</td>\n",
       "    </tr>\n",
       "    <tr>\n",
       "      <th>https://www.coursera.org/learn/journey-of-the-universe</th>\n",
       "      <td>2</td>\n",
       "      <td>0</td>\n",
       "      <td>19</td>\n",
       "      <td>1</td>\n",
       "      <td>0</td>\n",
       "      <td>64</td>\n",
       "      <td>0</td>\n",
       "      <td>True</td>\n",
       "    </tr>\n",
       "    <tr>\n",
       "      <th>https://www.coursera.org/learn/science-of-meditation</th>\n",
       "      <td>2</td>\n",
       "      <td>0</td>\n",
       "      <td>13</td>\n",
       "      <td>1</td>\n",
       "      <td>0</td>\n",
       "      <td>59</td>\n",
       "      <td>0</td>\n",
       "      <td>True</td>\n",
       "    </tr>\n",
       "    <tr>\n",
       "      <th>https://www.coursera.org/enterprise</th>\n",
       "      <td>10</td>\n",
       "      <td>2</td>\n",
       "      <td>1</td>\n",
       "      <td>7</td>\n",
       "      <td>0</td>\n",
       "      <td>32</td>\n",
       "      <td>4</td>\n",
       "      <td>False</td>\n",
       "    </tr>\n",
       "    <tr>\n",
       "      <th>https://www.coursera.org/ita</th>\n",
       "      <td>0</td>\n",
       "      <td>0</td>\n",
       "      <td>1</td>\n",
       "      <td>1</td>\n",
       "      <td>0</td>\n",
       "      <td>55</td>\n",
       "      <td>0</td>\n",
       "      <td>False</td>\n",
       "    </tr>\n",
       "    <tr>\n",
       "      <th>https://www.coursera.org/about/partners</th>\n",
       "      <td>0</td>\n",
       "      <td>0</td>\n",
       "      <td>1</td>\n",
       "      <td>0</td>\n",
       "      <td>0</td>\n",
       "      <td>37</td>\n",
       "      <td>0</td>\n",
       "      <td>False</td>\n",
       "    </tr>\n",
       "    <tr>\n",
       "      <th>https://www.coursera.org/learn/fashion-design</th>\n",
       "      <td>2</td>\n",
       "      <td>0</td>\n",
       "      <td>18</td>\n",
       "      <td>1</td>\n",
       "      <td>0</td>\n",
       "      <td>64</td>\n",
       "      <td>0</td>\n",
       "      <td>True</td>\n",
       "    </tr>\n",
       "  </tbody>\n",
       "</table>\n",
       "</div>"
      ],
      "text/plain": [
       "                                                    h2_count  iframe_count  \\\n",
       "url                                                                          \n",
       "https://www.coursera.org/learn/thomas-berry/               2             0   \n",
       "https://www.coursera.org/unige                             0             0   \n",
       "https://www.coursera.org/learn/journey-knowledg...         2             0   \n",
       "https://www.coursera.org/                                  1             0   \n",
       "https://www.coursera.org/learn/journey-of-the-u...         2             0   \n",
       "https://www.coursera.org/learn/science-of-medit...         2             0   \n",
       "https://www.coursera.org/enterprise                       10             2   \n",
       "https://www.coursera.org/ita                               0             0   \n",
       "https://www.coursera.org/about/partners                    0             0   \n",
       "https://www.coursera.org/learn/fashion-design              2             0   \n",
       "\n",
       "                                                    button_count  h1_count  \\\n",
       "url                                                                          \n",
       "https://www.coursera.org/learn/thomas-berry/                  18         1   \n",
       "https://www.coursera.org/unige                                 1         1   \n",
       "https://www.coursera.org/learn/journey-knowledg...            18         1   \n",
       "https://www.coursera.org/                                      4         2   \n",
       "https://www.coursera.org/learn/journey-of-the-u...            19         1   \n",
       "https://www.coursera.org/learn/science-of-medit...            13         1   \n",
       "https://www.coursera.org/enterprise                            1         7   \n",
       "https://www.coursera.org/ita                                   1         1   \n",
       "https://www.coursera.org/about/partners                        1         0   \n",
       "https://www.coursera.org/learn/fashion-design                 18         1   \n",
       "\n",
       "                                                    video_count  a_count  \\\n",
       "url                                                                        \n",
       "https://www.coursera.org/learn/thomas-berry/                  0       64   \n",
       "https://www.coursera.org/unige                                0      254   \n",
       "https://www.coursera.org/learn/journey-knowledg...            0       64   \n",
       "https://www.coursera.org/                                     0      103   \n",
       "https://www.coursera.org/learn/journey-of-the-u...            0       64   \n",
       "https://www.coursera.org/learn/science-of-medit...            0       59   \n",
       "https://www.coursera.org/enterprise                           0       32   \n",
       "https://www.coursera.org/ita                                  0       55   \n",
       "https://www.coursera.org/about/partners                       0       37   \n",
       "https://www.coursera.org/learn/fashion-design                 0       64   \n",
       "\n",
       "                                                    h3_count  label  \n",
       "url                                                                  \n",
       "https://www.coursera.org/learn/thomas-berry/               0   True  \n",
       "https://www.coursera.org/unige                             0  False  \n",
       "https://www.coursera.org/learn/journey-knowledg...         0   True  \n",
       "https://www.coursera.org/                                 11  False  \n",
       "https://www.coursera.org/learn/journey-of-the-u...         0   True  \n",
       "https://www.coursera.org/learn/science-of-medit...         0   True  \n",
       "https://www.coursera.org/enterprise                        4  False  \n",
       "https://www.coursera.org/ita                               0  False  \n",
       "https://www.coursera.org/about/partners                    0  False  \n",
       "https://www.coursera.org/learn/fashion-design              0   True  "
      ]
     },
     "execution_count": 12,
     "metadata": {},
     "output_type": "execute_result"
    }
   ],
   "source": [
    "df.sample(10)"
   ]
  },
  {
   "cell_type": "code",
   "execution_count": 13,
   "metadata": {
    "collapsed": false
   },
   "outputs": [],
   "source": [
    "from sklearn.model_selection import cross_val_score\n",
    "from sklearn.ensemble import RandomForestClassifier"
   ]
  },
  {
   "cell_type": "code",
   "execution_count": 14,
   "metadata": {
    "collapsed": true
   },
   "outputs": [],
   "source": [
    "rf_estimator = RandomForestClassifier()"
   ]
  },
  {
   "cell_type": "code",
   "execution_count": 15,
   "metadata": {
    "collapsed": true
   },
   "outputs": [],
   "source": [
    "X = df.drop(\"label\", axis=1)\n",
    "y = df[\"label\"]"
   ]
  },
  {
   "cell_type": "code",
   "execution_count": 16,
   "metadata": {
    "collapsed": false
   },
   "outputs": [
    {
     "data": {
      "text/plain": [
       "array([ 1.  ,  0.75,  1.  ])"
      ]
     },
     "execution_count": 16,
     "metadata": {},
     "output_type": "execute_result"
    }
   ],
   "source": [
    "scores = cross_val_score(rf_estimator, X, y)\n",
    "scores"
   ]
  },
  {
   "cell_type": "code",
   "execution_count": 17,
   "metadata": {
    "collapsed": false
   },
   "outputs": [],
   "source": [
    "import grequests"
   ]
  },
  {
   "cell_type": "code",
   "execution_count": 18,
   "metadata": {
    "collapsed": true
   },
   "outputs": [],
   "source": [
    "def url_to_filename(url):\n",
    "    return url.replace(\"/\", \",\")\n",
    "\n",
    "def filename_to_url(filename):\n",
    "    return filename.replace(\",\", \"/\")"
   ]
  },
  {
   "cell_type": "code",
   "execution_count": 19,
   "metadata": {
    "collapsed": false
   },
   "outputs": [],
   "source": [
    "import os\n",
    "dumps_path = manual_path + \"/cache\"\n",
    "\n",
    "def dump_path(url):\n",
    "    return \"{}/{}\".format(dumps_path, url_to_filename(url))\n",
    "\n",
    "def delete_all_files(folder):\n",
    "    for file in os.listdir(folder):\n",
    "        file_path = os.path.join(folder, file)\n",
    "        try:\n",
    "            if os.path.isfile(file_path):\n",
    "                os.remove(file_path)\n",
    "        except Exception as e:\n",
    "            print(e)\n",
    "            \n",
    "def is_cached(url):\n",
    "    return os.path.isfile(dump_path(url))\n",
    "\n",
    "def get_cached(url):\n",
    "    if not is_cached(url):\n",
    "        raise Exception(\"{} not cached\".format(url))\n",
    "\n",
    "    with open(dump_path(url), 'r') as f:\n",
    "        s = f.read()\n",
    "    f.close()\n",
    "    \n",
    "    return s\n",
    "\n",
    "def get_original_url(response):\n",
    "    return response.history[0].url if response.history else response.url\n",
    "        \n",
    "\n",
    "def async_download_pages(urls, delete_cache=False, threads=15):\n",
    "    if delete_cache:\n",
    "        delete_all_files(dumps_path)\n",
    "\n",
    "    # Only request for pages not already in the dump folder\n",
    "    reqs = [grequests.get(url) for url in urls if not is_cached(url)]\n",
    "    \n",
    "    for r in grequests.imap(reqs, size=threads):\n",
    "        if r.status_code == 200:\n",
    "            with open(dump_path(get_original_url(r)), 'w') as f:\n",
    "                f.write(r.text)\n",
    "            f.close()\n",
    "        else:\n",
    "            print(\"Error while downloading: {}. Status code: {}\".format(r.url, r.status_code))"
   ]
  },
  {
   "cell_type": "code",
   "execution_count": 20,
   "metadata": {
    "collapsed": false
   },
   "outputs": [],
   "source": [
    "async_download_pages([\"https://www.coursera.org/\", \"https://www.coursera.org/enterprise\"])"
   ]
  },
  {
   "cell_type": "code",
   "execution_count": 21,
   "metadata": {
    "collapsed": false
   },
   "outputs": [],
   "source": [
    "all_urls = [url \n",
    "            for pos in (True, False) \n",
    "            for folder in (\"coursera\", \"edX\", \"general\") \n",
    "            for url in urls_list(folder, pos)]\n"
   ]
  },
  {
   "cell_type": "code",
   "execution_count": 22,
   "metadata": {
    "collapsed": false
   },
   "outputs": [
    {
     "name": "stdout",
     "output_type": "stream",
     "text": [
      "Error while downloading: https://www.amazon.com/Low-Price-With-Free-Shipping/. Status code: 404\n",
      "Error while downloading: https://business.udemy.com/?ref=ufb_header. Status code: 403\n",
      "Error while downloading: http://blog.edx.org/learner-stories/. Status code: 403\n",
      "Error while downloading: http://blog.edx.org/. Status code: 403\n",
      "Error while downloading: https://www.amazon.com/. Status code: 503\n",
      "Error while downloading: https://about.udemy.com/blog/?ref=footer. Status code: 403\n",
      "Error while downloading: https://about.udemy.com/careers/. Status code: 403\n",
      "Error while downloading: http://blog.openclassrooms.com/en/. Status code: 403\n"
     ]
    }
   ],
   "source": [
    "# Download all pages asynchronously\n",
    "from random import sample\n",
    "async_download_pages(sample(all_urls, len(all_urls)))"
   ]
  },
  {
   "cell_type": "code",
   "execution_count": 23,
   "metadata": {
    "collapsed": false
   },
   "outputs": [],
   "source": [
    "# try again with all the pages\n",
    "\n",
    "row_list = []\n",
    "\n",
    "positives = [url for folder in [\"coursera\", \"general\"] for url in urls_list(folder, True)]\n",
    "negatives = [url for folder in [\"coursera\", \"general\"] for url in urls_list(folder, False)]"
   ]
  },
  {
   "cell_type": "code",
   "execution_count": 24,
   "metadata": {
    "collapsed": false
   },
   "outputs": [
    {
     "name": "stdout",
     "output_type": "stream",
     "text": [
      "https://business.udemy.com/?ref=ufb_header not cached\n",
      "https://about.udemy.com/blog/?ref=footer not cached\n",
      "https://about.udemy.com/careers/ not cached\n",
      "http://blog.openclassrooms.com/en/ not cached\n",
      "https://www.amazon.com/ not cached\n",
      "https://www.amazon.com/Low-Price-With-Free-Shipping/ not cached\n"
     ]
    }
   ],
   "source": [
    "for url in positives:\n",
    "    try:\n",
    "        soup = BeautifulSoup(get_cached(url), \"lxml\")\n",
    "        row_list.append(construct_features(soup, url, True)[1])\n",
    "    except:\n",
    "        print(\"{} not cached\".format(url))\n",
    "    \n",
    "for url in negatives:\n",
    "    try:\n",
    "        soup = BeautifulSoup(get_cached(url), \"lxml\")\n",
    "        row_list.append(construct_features(soup, url, False)[1])\n",
    "    except:\n",
    "        print(\"{} not cached\".format(url))"
   ]
  },
  {
   "cell_type": "code",
   "execution_count": 25,
   "metadata": {
    "collapsed": false
   },
   "outputs": [],
   "source": [
    "df = pd.DataFrame(row_list, columns=construct_features(soup, url, False)[0])\n",
    "df = df.set_index(\"url\")"
   ]
  },
  {
   "cell_type": "code",
   "execution_count": 26,
   "metadata": {
    "collapsed": false
   },
   "outputs": [
    {
     "data": {
      "text/plain": [
       "0.77959997427487293"
      ]
     },
     "execution_count": 26,
     "metadata": {},
     "output_type": "execute_result"
    }
   ],
   "source": [
    "rf_estimator = RandomForestClassifier()\n",
    "X = df.drop(\"label\", axis=1)\n",
    "y = df[\"label\"]\n",
    "scores = cross_val_score(rf_estimator, X, y, cv=3, )\n",
    "np.mean(scores)"
   ]
  },
  {
   "cell_type": "code",
   "execution_count": 27,
   "metadata": {
    "collapsed": false
   },
   "outputs": [
    {
     "data": {
      "text/plain": [
       "array([ 0.21419424,  0.07935099,  0.18777779,  0.13393149,  0.03981234,\n",
       "        0.17544023,  0.16949291])"
      ]
     },
     "execution_count": 27,
     "metadata": {},
     "output_type": "execute_result"
    }
   ],
   "source": [
    "rf_estimator.fit(X, y)\n",
    "rf_estimator.feature_importances_"
   ]
  },
  {
   "cell_type": "code",
   "execution_count": null,
   "metadata": {
    "collapsed": false
   },
   "outputs": [],
   "source": []
  },
  {
   "cell_type": "code",
   "execution_count": null,
   "metadata": {
    "collapsed": true
   },
   "outputs": [],
   "source": []
  }
 ],
 "metadata": {
  "anaconda-cloud": {},
  "kernelspec": {
   "display_name": "Python [default]",
   "language": "python",
   "name": "python3"
  },
  "language_info": {
   "codemirror_mode": {
    "name": "ipython",
    "version": 3
   },
   "file_extension": ".py",
   "mimetype": "text/x-python",
   "name": "python",
   "nbconvert_exporter": "python",
   "pygments_lexer": "ipython3",
   "version": "3.5.2"
  }
 },
 "nbformat": 4,
 "nbformat_minor": 1
}
