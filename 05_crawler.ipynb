{
 "cells": [
  {
   "cell_type": "code",
   "execution_count": null,
   "metadata": {
    "collapsed": false
   },
   "outputs": [],
   "source": [
    "%matplotlib inline\n",
    "import pandas as pd\n",
    "import numpy as np\n",
    "import matplotlib.pyplot as plt\n",
    "import seaborn as sns\n",
    "sns.set_context('notebook')\n",
    "\n",
    "%load_ext autoreload\n",
    "%autoreload 2"
   ]
  },
  {
   "cell_type": "code",
   "execution_count": null,
   "metadata": {
    "collapsed": false
   },
   "outputs": [],
   "source": [
    "from collections import deque\n",
    "import requests\n",
    "from urllib.parse import urljoin\n",
    "import time\n",
    "import random\n",
    "\n",
    "from bs4 import BeautifulSoup\n",
    "import networkx as nx"
   ]
  },
  {
   "cell_type": "code",
   "execution_count": null,
   "metadata": {
    "collapsed": false
   },
   "outputs": [],
   "source": [
    "from helpers import cache_page, is_cached, get_cached, url_to_filename\n",
    "from features import extract_visible"
   ]
  },
  {
   "cell_type": "code",
   "execution_count": null,
   "metadata": {
    "collapsed": true
   },
   "outputs": [],
   "source": [
    "from sklearn.externals import joblib\n",
    "import os\n",
    "\n",
    "pipeline_path = os.path.join('saved', 'models', 'log_reg_pipeline_general3.pkl')\n",
    "pipeline = joblib.load(pipeline_path)"
   ]
  },
  {
   "cell_type": "code",
   "execution_count": null,
   "metadata": {
    "collapsed": true
   },
   "outputs": [],
   "source": [
    "status = {\n",
    "    True: \"class_true\",\n",
    "    False: \"class_false\",\n",
    "    \"fail\": \"req_failed\",\n",
    "}\n",
    "\n",
    "class Node:\n",
    "    # Status one of \"class_true\", \"class_false\", \"req_failed\"\n",
    "    def __init__(self, url, status, decision_func):\n",
    "        self.url = url\n",
    "        self.status = status\n",
    "        self.decision_func = decision_func\n",
    "        \n",
    "    def __str__(self):\n",
    "        # Remove \"https://www.\" part for clarity\n",
    "        stripped = \"\".join(self.url.split('://')[1:])\n",
    "        return stripped\n",
    "    \n",
    "    def __eq__(self, other):\n",
    "        if isinstance(self, other.__class__):\n",
    "            return self.url == other.url\n",
    "        return False\n",
    "    \n",
    "    def __hash__(self):\n",
    "        return hash(self.url)"
   ]
  },
  {
   "cell_type": "code",
   "execution_count": null,
   "metadata": {
    "collapsed": false
   },
   "outputs": [],
   "source": [
    "first_link = \"http://online-learning.harvard.edu\"\n",
    "\n",
    "# Queue containing: (url, depth)\n",
    "queue = deque()\n",
    "queue.append((first_link, 0, None))\n",
    "\n",
    "G = nx.DiGraph()\n",
    "seen_urls = set()\n",
    "\n",
    "# Params\n",
    "depth_limit = 6\n",
    "breadth_limit = 3\n",
    "\n",
    "print(\"Running BFS with depth_limit = {} and breadth_limit = {}.\".format(depth_limit, breadth_limit))\n",
    "\n",
    "# Assuming download+sleep=1s\n",
    "print(\"Estimated time: {}s\".format(np.power(breadth_limit, depth_limit + 1)))\n",
    "start_time = time.time()\n",
    "\n",
    "while(len(queue) > 0):\n",
    "    url, depth, parent_node = queue.popleft()\n",
    "    \n",
    "    print(url, depth)\n",
    "    \n",
    "    # Add url to seen_urls here, to avoid infinite loop (if the page links to itself)\n",
    "    seen_urls.add(url)\n",
    "    \n",
    "    # Fetch from cache or download the page\n",
    "    if is_cached(url):\n",
    "        text = get_cached(url)\n",
    "        status_code = 200\n",
    "    else:\n",
    "        try:\n",
    "            # Sleep to avoid getting banned\n",
    "            time.sleep(0.5)\n",
    "            \n",
    "            r = requests.get(url)\n",
    "            status_code = r.status_code\n",
    "            text = r.text\n",
    "            soup = BeautifulSoup(text, \"lxml\")\n",
    "        except Exception as e:\n",
    "            print(\"Exception while requesting / parsing {}\".format(url))\n",
    "            print(e)\n",
    "            status_code = -1\n",
    "    \n",
    "\n",
    "    if status_code != 200:\n",
    "        node = Node(url, status[\"fail\"], 0)\n",
    "        G.add_node(node)\n",
    "    else:\n",
    "        visible_text = extract_visible(soup)\n",
    "        \n",
    "        # Predict label & get strength of prediction\n",
    "        label = pipeline.predict([visible_text])[0]\n",
    "        decision_func = pipeline.decision_function([visible_text])[0]\n",
    "\n",
    "        node = Node(url, status[label], decision_func)\n",
    "        G.add_node(node)\n",
    "        \n",
    "        if depth < depth_limit:\n",
    "            # Get outgoing url in their absolute form\n",
    "            out_urls = (urljoin(url, a.get('href', '')) for a in soup.find_all(\"a\"))\n",
    "            \n",
    "            # Remove already seen urls\n",
    "            out_urls = [out_url for out_url in out_urls if out_url not in seen_urls]\n",
    "\n",
    "            # Keeping only <breadth_limit> out_urls\n",
    "            if len(out_urls) > breadth_limit:\n",
    "                out_urls = random.sample(out_urls, breadth_limit)\n",
    "\n",
    "            queue.extend((out_url, depth + 1, node) for out_url in out_urls)\n",
    "\n",
    "            \n",
    "    if parent_node is not None:\n",
    "        G.add_edge(parent_node, node)\n",
    "            \n",
    "print(\"Done in {}s\".format(time.time() - start_time))"
   ]
  },
  {
   "cell_type": "code",
   "execution_count": null,
   "metadata": {
    "collapsed": false
   },
   "outputs": [],
   "source": [
    "import mpld3\n",
    "mpld3.enable_notebook()\n",
    "\n",
    "colors = []\n",
    "\n",
    "for node in G:\n",
    "    if node.status == status[True]:\n",
    "        print(\"TRUE: {} {}\".format(node.decision_func, node))\n",
    "        colors.append('green')\n",
    "    elif node.status == status[False]:\n",
    "        print(\"FALSE: {} {}\".format(node.decision_func, node))\n",
    "        colors.append('red')\n",
    "    else:\n",
    "        # Download error\n",
    "        colors.append('grey')\n",
    "\n",
    "fig, ax = plt.subplots(figsize=(15, 10))\n",
    "nx.draw_kamada_kawai(G, ax=ax, node_color=colors, with_labels=False, node_size=50)"
   ]
  },
  {
   "cell_type": "code",
   "execution_count": null,
   "metadata": {
    "collapsed": false
   },
   "outputs": [],
   "source": [
    "nx.write_gpickle(G, os.path.join('saved', 'graphs', \"{}-depth:{}-breadth:{}.pkl\"\n",
    "    .format(url_to_filename(first_link), depth_limit, breadth_limit)))"
   ]
  },
  {
   "cell_type": "code",
   "execution_count": null,
   "metadata": {
    "collapsed": false
   },
   "outputs": [],
   "source": []
  },
  {
   "cell_type": "code",
   "execution_count": null,
   "metadata": {
    "collapsed": false
   },
   "outputs": [],
   "source": []
  },
  {
   "cell_type": "code",
   "execution_count": null,
   "metadata": {
    "collapsed": false
   },
   "outputs": [],
   "source": []
  },
  {
   "cell_type": "code",
   "execution_count": null,
   "metadata": {
    "collapsed": true
   },
   "outputs": [],
   "source": []
  }
 ],
 "metadata": {
  "anaconda-cloud": {},
  "kernelspec": {
   "display_name": "Python [default]",
   "language": "python",
   "name": "python3"
  },
  "language_info": {
   "codemirror_mode": {
    "name": "ipython",
    "version": 3
   },
   "file_extension": ".py",
   "mimetype": "text/x-python",
   "name": "python",
   "nbconvert_exporter": "python",
   "pygments_lexer": "ipython3",
   "version": "3.5.2"
  }
 },
 "nbformat": 4,
 "nbformat_minor": 1
}
