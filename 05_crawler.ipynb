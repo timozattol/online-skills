{
 "cells": [
  {
   "cell_type": "code",
   "execution_count": null,
   "metadata": {
    "collapsed": true
   },
   "outputs": [],
   "source": [
    "%matplotlib inline\n",
    "import pandas as pd\n",
    "import numpy as np\n",
    "import matplotlib.pyplot as plt\n",
    "import seaborn as sns\n",
    "sns.set_context('notebook')\n",
    "\n",
    "%load_ext autoreload\n",
    "%autoreload 2"
   ]
  },
  {
   "cell_type": "code",
   "execution_count": null,
   "metadata": {
    "collapsed": false
   },
   "outputs": [],
   "source": [
    "from collections import deque\n",
    "import requests\n",
    "from urllib.parse import urljoin\n",
    "import time\n",
    "import random\n",
    "\n",
    "from bs4 import BeautifulSoup\n",
    "import networkx as nx"
   ]
  },
  {
   "cell_type": "code",
   "execution_count": null,
   "metadata": {
    "collapsed": true
   },
   "outputs": [],
   "source": [
    "from crawler import cache_page"
   ]
  },
  {
   "cell_type": "code",
   "execution_count": null,
   "metadata": {
    "collapsed": true
   },
   "outputs": [],
   "source": [
    "status = {\n",
    "    True: \"class_true\",\n",
    "    False: \"class_false\",\n",
    "    \"fail\": \"req_failed\",\n",
    "}\n",
    "\n",
    "class Node:\n",
    "    # Status one of \"class_true\", \"class_false\", \"req_failed\"\n",
    "    def __init__(self, url, status):\n",
    "        self.url = url\n",
    "        self.status = status\n",
    "        \n",
    "    def __str__(self):\n",
    "        # Remove \"https://www.\" part for clarity\n",
    "        return self.url#TODOremove\n",
    "        return \"\".join(self.url.split(\"www.\")[1:])\n",
    "    \n",
    "    def __eq__(self, other):\n",
    "        if isinstance(self, other.__class__):\n",
    "            return self.url == other.url\n",
    "        return False\n",
    "    \n",
    "    def __hash__(self):\n",
    "        return hash(self.url)"
   ]
  },
  {
   "cell_type": "code",
   "execution_count": null,
   "metadata": {
    "collapsed": false
   },
   "outputs": [],
   "source": [
    "first_link = \"https://www.coursera.org/\"\n",
    "\n",
    "# Queue containing: (url, depth)\n",
    "queue = deque()\n",
    "queue.append((first_link, 0, None))\n",
    "\n",
    "G = nx.DiGraph()\n",
    "seen_urls = set()\n",
    "\n",
    "# Params\n",
    "depth_limit = 3\n",
    "breadth_limit = 3\n",
    "\n",
    "print(\"Running BFS with depth_limit = {} and breadth_limit = {}.\".format(depth_limit, breadth_limit))\n",
    "\n",
    "# Assuming download+sleep=1s\n",
    "print(\"Estimated time: {}s\".format(np.power(breadth_limit, depth_limit + 1)))\n",
    "start_time = time.time()\n",
    "\n",
    "while(len(queue) > 0):\n",
    "    url, depth, parent_node = queue.popleft()\n",
    "    \n",
    "    print(url, depth, parent_node)\n",
    "    \n",
    "    # Add url to seen_urls here, to avoid infinite loop (if the page links to itself)\n",
    "    seen_urls.add(url)\n",
    "    \n",
    "    # Download the page\n",
    "    try:\n",
    "        time.sleep(0.5)\n",
    "        r = requests.get(url)\n",
    "    except Exception:\n",
    "        print(\"Exception while requesting {}\".format(url))\n",
    "    \n",
    "    if r.status_code != 200:\n",
    "        node = Node(url, status[\"fail\"])\n",
    "        G.add_node(node)\n",
    "    else:\n",
    "        soup = BeautifulSoup(r.text, \"lxml\")\n",
    "\n",
    "        node = Node(url, status[False])\n",
    "        G.add_node(node.url)\n",
    "        \n",
    "        if depth < depth_limit:\n",
    "            # Get outgoing url in their absolute form\n",
    "            out_urls = (urljoin(url, a.get('href', '')) for a in soup.find_all(\"a\"))\n",
    "            \n",
    "            # Remove already seen urls\n",
    "            out_urls = [out_url for out_url in out_urls if out_url not in seen_urls]\n",
    "\n",
    "            # Keeping only <breadth_limit> out_urls\n",
    "            if len(out_urls) > breadth_limit:\n",
    "                out_urls = random.sample(out_urls, breadth_limit)\n",
    "\n",
    "            queue.extend((out_url, depth + 1, node) for out_url in out_urls)\n",
    "\n",
    "            \n",
    "    if parent_node is not None:\n",
    "        G.add_edge(parent_node.url, node.url)\n",
    "            \n",
    "print(\"Done in {}s\".format(time.time() - start_time))"
   ]
  },
  {
   "cell_type": "code",
   "execution_count": null,
   "metadata": {
    "collapsed": false
   },
   "outputs": [],
   "source": [
    "import mpld3\n",
    "mpld3.enable_notebook()\n",
    "\n",
    "nx.draw_spring(G, with_labels=True)"
   ]
  },
  {
   "cell_type": "code",
   "execution_count": null,
   "metadata": {
    "collapsed": false
   },
   "outputs": [],
   "source": []
  },
  {
   "cell_type": "code",
   "execution_count": null,
   "metadata": {
    "collapsed": true
   },
   "outputs": [],
   "source": []
  },
  {
   "cell_type": "code",
   "execution_count": null,
   "metadata": {
    "collapsed": true
   },
   "outputs": [],
   "source": []
  }
 ],
 "metadata": {
  "anaconda-cloud": {},
  "kernelspec": {
   "display_name": "Python [default]",
   "language": "python",
   "name": "python3"
  },
  "language_info": {
   "codemirror_mode": {
    "name": "ipython",
    "version": 3
   },
   "file_extension": ".py",
   "mimetype": "text/x-python",
   "name": "python",
   "nbconvert_exporter": "python",
   "pygments_lexer": "ipython3",
   "version": "3.5.2"
  }
 },
 "nbformat": 4,
 "nbformat_minor": 1
}
